{
 "cells": [
  {
   "cell_type": "markdown",
   "metadata": {},
   "source": [
    "# Methods for solving systems of equations\n",
    "\n",
    "Direct solvers for invertible linear systems: LU factorization\n",
    "\n",
    "Fixed point iterations\n",
    "\n",
    "    * For linear systems: Jacobi, Gauss-Seidel, SOR, CG\n",
    "    * Newton's method, Quasi-Newton's method"
   ]
  },
  {
   "cell_type": "markdown",
   "metadata": {},
   "source": [
    "## Solving $Ax=b$ by $PA=LU$\n",
    "\n",
    "$LUx=PAx=Pb$\n",
    "\n",
    "1. Solve $Ly=Pb$ (equivalently, $Ux=L^{-1}(Pb)$)\n",
    "2. Solve $Ux=y$.\n",
    "\n",
    "$P$ records how rows of $A$ are interchanged. This is called *partial pivoting* of $A$.\n",
    "\n",
    "$L$ is a lower triangular matrix\n",
    "\n",
    "$U$ is an upper triangular matrix\n",
    "\n",
    "They are easier to solve: *back-substitution*\n",
    "\n",
    "You need to know:\n",
    "\n",
    "* the mechanism of Gaussian elimination and the count for operations $O(n^3)$\n",
    "* how is LU related to Gaussian elimination\n",
    "* how to use a software package computing the LU factorization\n",
    "* why is pivoting necessary for certain cases?\n",
    "\n",
    "**In general, use the \"backslash\" operator** implemnted in MATLAB or Julia. It is a very robust and efficient implementation that includes Gaussian elimination.\n",
    "\n",
    "Such methods are called **direct solvers**, which is different from the iterative methods that we will look into later."
   ]
  },
  {
   "cell_type": "markdown",
   "metadata": {},
   "source": [
    "### Gaussian elimination for $Ax=b$\n",
    "\n",
    "A sequence of operations that reduces $A$ to an upper triangular matrix."
   ]
  },
  {
   "cell_type": "code",
   "execution_count": null,
   "metadata": {},
   "outputs": [],
   "source": [
    "function naive_Gaussian_elimination!(A,b)\n",
    "       \n",
    "    for j=1:size(A,2)-1\n",
    "        #eliminate column j    \n",
    "\n",
    "    end\n",
    "    \n",
    "end"
   ]
  },
  {
   "cell_type": "code",
   "execution_count": 79,
   "metadata": {},
   "outputs": [
    {
     "data": {
      "text/plain": [
       "naive_Gaussian_elimination! (generic function with 2 methods)"
      ]
     },
     "execution_count": 79,
     "metadata": {},
     "output_type": "execute_result"
    }
   ],
   "source": [
    "function naive_Gaussian_elimination!(A,b)\n",
    "       \n",
    "    for j=1:size(A,2)-1\n",
    "        #eliminate column j    \n",
    "        for i=j+1:size(A,1) #for each row below the jth-row\n",
    "            mult=A[i,j]/A[j,j]\n",
    "\n",
    "            for k=j+1:size(A,1) #for each column in the i-th row beyond the diagonal element\n",
    "                A[i,k] = A[i,k] - mult*A[i,k] \n",
    "            end\n",
    "            A[i,1:j] .=0.0 #this is the consequence of choosing 'mult'. \n",
    "\n",
    "            b[i] = b[i]-mult*b[j]\n",
    "        end\n",
    "    end\n",
    "    \n",
    "end"
   ]
  },
  {
   "cell_type": "code",
   "execution_count": 80,
   "metadata": {},
   "outputs": [
    {
     "data": {
      "text/plain": [
       "4×4 Array{Float64,2}:\n",
       " 0.717663  0.112354  0.172319  0.36878 \n",
       " 0.204488  0.339701  0.931258  0.699811\n",
       " 0.288422  0.480342  0.150754  0.458171\n",
       " 0.731569  0.985481  0.620735  0.781651"
      ]
     },
     "metadata": {},
     "output_type": "display_data"
    },
    {
     "data": {
      "text/plain": [
       "4×4 Array{Float64,2}:\n",
       " 0.717663  0.112354   0.172319    0.36878   \n",
       " 0.0       0.242908   0.66591     0.50041   \n",
       " 0.0       0.0       -0.0164774  -0.050078  \n",
       " 0.0       0.0        0.0        -0.00347448"
      ]
     },
     "metadata": {},
     "output_type": "display_data"
    },
    {
     "data": {
      "text/plain": [
       "4×4 Array{Float64,2}:\n",
       " 0.834199   0.702558  0.372986   0.888226\n",
       " 0.0       -0.350248  0.138084   0.200765\n",
       " 0.0        0.0       0.29322    1.00913 \n",
       " 0.0        0.0       0.0       -0.249183"
      ]
     },
     "metadata": {},
     "output_type": "display_data"
    }
   ],
   "source": [
    "A=rand(4,4)\n",
    "b=rand(4)\n",
    "\n",
    "display(A)\n",
    "naive_Gaussian_elimination!(A,b)\n",
    "display(A)\n",
    "\n",
    "A=rand(4,4)\n",
    "A[1,1]=0.0\n",
    "\n",
    "using LinearAlgebra\n",
    "fac=lu(A)\n",
    "display(fac.U)"
   ]
  },
  {
   "cell_type": "code",
   "execution_count": 84,
   "metadata": {},
   "outputs": [
    {
     "data": {
      "text/plain": [
       "4×4 Array{Float64,2}:\n",
       " 0.706675  0.269127  0.888029  0.415364\n",
       " 0.0       0.749374  0.173457  0.258258\n",
       " 0.0       0.0       0.717602  0.792846\n",
       " 0.0       0.0       0.0       0.127578"
      ]
     },
     "metadata": {},
     "output_type": "display_data"
    },
    {
     "data": {
      "text/plain": [
       "4×4 Array{Float64,2}:\n",
       " 0.0     0.313292     0.790119     0.900816\n",
       " 0.0  -Inf         -Inf         -Inf       \n",
       " 0.0     0.0        NaN          NaN       \n",
       " 0.0     0.0          0.0        NaN       "
      ]
     },
     "metadata": {},
     "output_type": "display_data"
    }
   ],
   "source": [
    "A=rand(4,4)\n",
    "A[1,1]=0.0\n",
    "\n",
    "fac=lu(A)\n",
    "display(fac.U)\n",
    "\n",
    "naive_Gaussian_elimination!(A,b)\n",
    "\n",
    "display(A)"
   ]
  },
  {
   "cell_type": "code",
   "execution_count": 3,
   "metadata": {},
   "outputs": [
    {
     "data": {
      "text/plain": [
       "7.396952951111254e-13"
      ]
     },
     "execution_count": 3,
     "metadata": {},
     "output_type": "execute_result"
    }
   ],
   "source": [
    "using LinearAlgebra\n",
    "\n",
    "A=[2. 1. 5.; 4. 4. -4.; 1. 3. 1.]\n",
    "\n",
    "b=[5., 0., 6.]\n",
    "\n",
    "N=10000\n",
    "A=rand(N,N)\n",
    "b=rand(N)\n",
    "\n",
    "fac=lu(A)\n",
    "\n",
    "#display(fac.p)\n",
    "#display(fac.L)\n",
    "#display(fac.U)\n",
    "\n",
    "#Step 1:\n",
    "y=fac.L\\b[fac.p]\n",
    "\n",
    "#Step 2:\n",
    "x=fac.U\\y\n",
    "\n",
    "#check Ax=b\n",
    "norm(A*x - b)/N\n"
   ]
  },
  {
   "cell_type": "code",
   "execution_count": 17,
   "metadata": {},
   "outputs": [
    {
     "data": {
      "text/plain": [
       "2-element Array{Float64,1}:\n",
       " 0.0                  \n",
       " 1.2253979164711382e-8"
      ]
     },
     "metadata": {},
     "output_type": "display_data"
    }
   ],
   "source": [
    "### The need for pivoting\n",
    "\n",
    "A=[5 1.0;1e9 2.0]\n",
    "\n",
    "b=[1, 4.0]\n",
    "\n",
    "x_=A\\b\n",
    "#display(x_)\n",
    "#display(A*x_ -b)\n",
    "\n",
    "#turn off pivoting\n",
    "fac=lu(A, Val(false))\n",
    "#fac=lu(A)\n",
    "\n",
    "\n",
    "#display(fac.p)\n",
    "\n",
    "#Step 1:\n",
    "y=fac.L\\b[fac.p]\n",
    "\n",
    "#Step 2:\n",
    "x=fac.U\\y\n",
    "\n",
    "#check Ax=b\n",
    "#A*x == b\n",
    "\n",
    "display(A*x-b)\n"
   ]
  },
  {
   "cell_type": "code",
   "execution_count": 100,
   "metadata": {},
   "outputs": [
    {
     "data": {
      "text/plain": [
       "2-element Array{Float64,1}:\n",
       " 0.0\n",
       " 0.0"
      ]
     },
     "metadata": {},
     "output_type": "display_data"
    }
   ],
   "source": [
    "#turn off pivoting\n",
    "fac=lu(A, Val(true))\n",
    "\n",
    "\n",
    "#Step 1:\n",
    "y=fac.L\\b[fac.p]\n",
    "\n",
    "#Step 2:\n",
    "x=fac.U\\y\n",
    "\n",
    "#check Ax=b\n",
    "A*x == b\n",
    "\n",
    "display(A*x-b)"
   ]
  },
  {
   "cell_type": "markdown",
   "metadata": {},
   "source": [
    "### Example: solving a two-point boundary value problem for Poisson's equation\n",
    "\n",
    "$$ -u_{xx} =f(x),~~~0<x<1,~~~u(0)=u(1)=0 $$\n",
    "\n",
    "* Discretize the unit interval: $x_j = j\\Delta x, j=0,1,2,\\cdots,N,\\Delta x =1/N$\n",
    "\n",
    "* Approximate the differential equation on the grid nodes:\n",
    "    $$ -u_{xx} (x_j)=f(x_j) \\approx -(u_{j+1}-2u_j+u_{j-1})/\\Delta x^2 = f(x_j),~~~j=1,2,\\cdots,N-1 $$\n",
    "\n",
    "* Set the boundary conditions: $u_0=0=u_N$.\n",
    "\n",
    "This leads to a linear system to solve: $AU=F$."
   ]
  },
  {
   "cell_type": "code",
   "execution_count": 22,
   "metadata": {},
   "outputs": [
    {
     "name": "stdout",
     "output_type": "stream",
     "text": [
      "  1.557402 seconds (4.68 M allocations: 229.258 MiB, 11.27% gc time)\n"
     ]
    },
    {
     "data": {
      "text/plain": [
       "49-element Array{Float64,1}:\n",
       " 0.00979999999999998 \n",
       " 0.019199999999999964\n",
       " 0.028199999999999947\n",
       " 0.03679999999999994 \n",
       " 0.044999999999999936\n",
       " 0.05279999999999993 \n",
       " 0.06019999999999994 \n",
       " 0.06719999999999997 \n",
       " 0.0738              \n",
       " 0.08000000000000004 \n",
       " 0.08580000000000007 \n",
       " 0.09120000000000009 \n",
       " 0.09620000000000012 \n",
       " ⋮                   \n",
       " 0.09120000000000053 \n",
       " 0.08580000000000053 \n",
       " 0.0800000000000005  \n",
       " 0.07380000000000048 \n",
       " 0.06720000000000044 \n",
       " 0.06020000000000038 \n",
       " 0.05280000000000031 \n",
       " 0.045000000000000255\n",
       " 0.0368000000000002  \n",
       " 0.028200000000000152\n",
       " 0.019200000000000106\n",
       " 0.009800000000000052"
      ]
     },
     "execution_count": 22,
     "metadata": {},
     "output_type": "execute_result"
    }
   ],
   "source": [
    "using LinearAlgebra\n",
    "\n",
    "N=50\n",
    "xgrid=range(0.0 ,stop=1.0,length=N+1)\n",
    "Δx=1/N\n",
    "\n",
    "f(x)=1.0 #x.^2+0.0*sin(20*x)\n",
    "\n",
    "#The vector U stores (u1,u2,u3,cdots, u_(N-1))\n",
    "U=zeros(N-1)\n",
    "\n",
    "#N-2 because we exclude x=0 and X=1.\n",
    "A=diagm(0=>-2.0 .*ones(N-1), 1=>ones(N-2), -1=>ones(N-2))\n",
    "\n",
    "\n",
    "\n",
    "F=collect(f.(xgrid[2:end-1]))\n",
    "\n",
    "b=F.*Δx^2\n",
    "\n",
    "@time U=-A\\b"
   ]
  },
  {
   "cell_type": "markdown",
   "metadata": {},
   "source": [
    "### Use Sparse matrices to save on storage\n",
    "\n",
    "For large matrices that contains a lot of zeros, it may be necessary to use \"sparse matrices\" for storing the matrix information"
   ]
  },
  {
   "cell_type": "code",
   "execution_count": 23,
   "metadata": {},
   "outputs": [
    {
     "name": "stdout",
     "output_type": "stream",
     "text": [
      "  0.000059 seconds (54 allocations: 24.766 KiB)\n"
     ]
    },
    {
     "data": {
      "text/plain": [
       "49-element Array{Float64,1}:\n",
       " 0.00979999999999998 \n",
       " 0.019199999999999964\n",
       " 0.028199999999999947\n",
       " 0.03679999999999994 \n",
       " 0.044999999999999936\n",
       " 0.05279999999999993 \n",
       " 0.06019999999999994 \n",
       " 0.06719999999999997 \n",
       " 0.0738              \n",
       " 0.08000000000000004 \n",
       " 0.08580000000000007 \n",
       " 0.09120000000000009 \n",
       " 0.09620000000000012 \n",
       " ⋮                   \n",
       " 0.09120000000000053 \n",
       " 0.08580000000000053 \n",
       " 0.0800000000000005  \n",
       " 0.07380000000000048 \n",
       " 0.06720000000000044 \n",
       " 0.06020000000000038 \n",
       " 0.05280000000000031 \n",
       " 0.045000000000000255\n",
       " 0.0368000000000002  \n",
       " 0.028200000000000152\n",
       " 0.019200000000000106\n",
       " 0.009800000000000052"
      ]
     },
     "execution_count": 23,
     "metadata": {},
     "output_type": "execute_result"
    }
   ],
   "source": [
    "using SparseArrays\n",
    "\n",
    "sA=spdiagm(0=>-2.0 .*ones(N-1), 1=>ones(N-2), -1=>ones(N-2))\n",
    "\n",
    "@time U=-sA\\b"
   ]
  },
  {
   "cell_type": "markdown",
   "metadata": {},
   "source": [
    "### The Euler-Bernoulli Beam problem\n",
    "\n",
    "$$ EI y^{\\prime\\prime\\prime\\prime}(x)=f(x), 0\\le x\\le L $$\n",
    "\n",
    "We need to provide appropirate *boundary conditions* to get a unqiue solution.\n",
    "\n",
    "#### Modeling a diving board\n",
    "$y(x)$ describes the vertical displacement of the board at position $x$.\n",
    "\n",
    "The board has length $L$, and is fixed (clamped) at $x=0$ and free at $x=L$.\n",
    "This corresponds to the conditions: \n",
    "* at the clamped end: $$y(0)=0, y^\\prime(0)=0$$\n",
    "* at the free end: $$y^{\\prime\\prime}(L)=0, y^{\\prime\\prime\\prime\\prime}(L)=0$$\n",
    "\n",
    "In the following, we shall create a matrix $A_h y_h=f_h$ to get an approximation of the solution at increments of $h$: $yh[j] \\approx y[jh]$"
   ]
  },
  {
   "cell_type": "code",
   "execution_count": 152,
   "metadata": {},
   "outputs": [
    {
     "data": {
      "text/plain": [
       "EB_Beam (generic function with 1 method)"
      ]
     },
     "execution_count": 152,
     "metadata": {},
     "output_type": "execute_result"
    }
   ],
   "source": [
    "function EB_Beam(N)\n",
    "    L=1.0\n",
    "\n",
    "    #use N+1 points to discretize [0,L]\n",
    "    #N=500\n",
    "    Δx=L/N\n",
    "\n",
    "    x = range(Δx, stop=L, step=Δx)\n",
    "\n",
    "    y=zeros(size(x)) #y[j]=j*Δx\n",
    "\n",
    "    #define the matrix A\n",
    "    #first generate\n",
    "    A=diagm(0=>6.0 .* ones(N), 1=> -4.0 .* ones(N-1), -1=> -4.0 .* ones(N-1), 2=> ones(N-2), -2=> ones(N-2))\n",
    "\n",
    "    #implement the boundary conditions at x=0\n",
    "    A[1,1]=16\n",
    "    A[1,2]=-9.0\n",
    "    A[1,3]= 8/3\n",
    "    A[1,4]=-1/4\n",
    "\n",
    "    #implement the boundary conditions at x=L\n",
    "    @view(A[N-1, N-3:N]) .= [ 16/17, -60/17,  72/17, -28/17]\n",
    "    @view(A[N  , N-3:N]) .= [-12/17,  96/17,-156/17,  72/17]\n",
    "\n",
    "\n",
    "    #display(A)\n",
    "    \n",
    "    forcing = ones(size(A,2))\n",
    "\n",
    "    @time fac=lu(A)\n",
    "    \n",
    "    #Step 1:\n",
    "    z=fac.L\\(Δx^4 .*forcing[fac.p])\n",
    "\n",
    "    #Step 2:\n",
    "    y=fac.U\\z\n",
    "\n",
    "    #check Ax=b\n",
    "    #A*y ≈ Δx^4 .* forcing\n",
    "    \n",
    "    return (x,y)\n",
    "end    "
   ]
  },
  {
   "cell_type": "code",
   "execution_count": 153,
   "metadata": {},
   "outputs": [
    {
     "data": {
      "image/png": "[encoded data removed]",
      "text/plain": [
       "Figure(PyObject <Figure size 640x480 with 1 Axes>)"
      ]
     },
     "metadata": {},
     "output_type": "display_data"
    },
    {
     "name": "stdout",
     "output_type": "stream",
     "text": [
      "  0.000551 seconds (4 allocations: 123.297 KiB)\n"
     ]
    },
    {
     "data": {
      "text/plain": [
       "1-element Array{PyCall.PyObject,1}:\n",
       " PyObject <matplotlib.lines.Line2D object at 0x13c59c940>"
      ]
     },
     "execution_count": 153,
     "metadata": {},
     "output_type": "execute_result"
    }
   ],
   "source": [
    "using PyPlot\n",
    "\n",
    "(x,y)=EB_Beam(125)\n",
    "\n",
    "plot(x,y)"
   ]
  },
  {
   "cell_type": "code",
   "execution_count": null,
   "metadata": {},
   "outputs": [],
   "source": []
  }
 ],
 "metadata": {
  "anaconda-cloud": {},
  "kernelspec": {
   "display_name": "Julia 1.2.0",
   "language": "julia",
   "name": "julia-1.2"
  },
  "language_info": {
   "file_extension": ".jl",
   "mimetype": "application/julia",
   "name": "julia",
   "version": "1.2.0"
  }
 },
 "nbformat": 4,
 "nbformat_minor": 1
}
