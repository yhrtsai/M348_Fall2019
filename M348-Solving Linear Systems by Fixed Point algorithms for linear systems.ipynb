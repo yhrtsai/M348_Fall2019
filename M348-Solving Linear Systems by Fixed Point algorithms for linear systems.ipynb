{
 "cells": [
  {
   "cell_type": "markdown",
   "metadata": {},
   "source": [
    "# Fixed point iterations\n",
    "\n",
    "by [Richard Tsai](https://www.researchgate.net/profile/Richard_Tsai3)\n",
    "\n",
    "$f:\\mathbb{R}^d\\mapsto\\mathbb{R}^d$\n",
    "\n",
    "* Need to come up with $g(x)$ such that \n",
    "$$ f(x^*)=0 \\iff x^* = g(x^*) $$\n",
    "\n",
    "* Introduce the fixed point iteration for $g$: $$ x_{k+1} := g(x_k).$$\n",
    "\n",
    "**What should $g(x)$ be?** \n",
    "So that $x_k\\longrightarrow x^*$\n",
    "\n"
   ]
  },
  {
   "cell_type": "markdown",
   "metadata": {},
   "source": [
    "## Linear systems of equations\n",
    "Let $$f(x)=Ax-b,$$\n",
    "where $A$ is an $d\\times d$ invertible matrix, and $x,b$ are two vectors in $\\mathbb{R}^d$.\n",
    "We want to find the solution of $f(x)=0$.\n",
    "\n",
    "Typically, we write the above linear system of equations as \n",
    "$$ Ax =b $$\n",
    "\n",
    "We will consider fixed point iterations with $g(x)=Gx+c$.\n",
    "\n",
    "### General strategy for creating fixed-point iterations for systems by splitting the matrix\n",
    "\n",
    "A general strategy in coming up with fixed point iterations is to *split* $A$ into the sum of two matrices, separate the equations accordingly by the equal sign\n",
    "$$\n",
    "A=M-N \\implies Ax=b \\iff Mx=Nx+b\n",
    "$$\n",
    "and define the iterations\n",
    "$$\n",
    "Mx^{(k+1)} = Nx^{(k)} +b, \n",
    "$$\n",
    "\n",
    "leading to the general form\n",
    "\n",
    "$$x^{(k+1)}=M^{-1}Nx^{(k)}+M^{-1}b \\iff x^{(k+1)}=G x^{(k)}+ c $$\n",
    "\n",
    "**Of course, $M$ has to be very simple and easy to invert.**\n",
    "\n",
    "**Both iterative schemes can be used to solve *nonlinear* equations**\n",
    "\n",
    "** Learniing objectives **:\n",
    "* Know how convergence of a fixed point iterations is related to the eigenvalues of the matrices involved\n",
    "* Know in which situtations does one expect that iterative methods be better than direct methods\n",
    "\n",
    "\n",
    "## Three fixed point iterations to solve linear systems of equations\n",
    "\n",
    "We first discuss three particular fixed-point iterations (two different $g$'s):\n",
    "\n",
    "* Jacobi iterations (J)\n",
    "* Gauss-Seidel iterations (G-S)\n",
    "* Successive Over Relaxations (SOR): this method builds on top of (G-S)\n",
    "\n",
    "**Learning objectives**:\n",
    "\n",
    "* Know how to write Julia code for Jacobi and for Gauss-Seidel methods\n",
    "* Know how convergence of the iterative methods is related to the spectral radius of $G$\n",
    "* Know how to use the Jacobi and Gauss-Seidel **ideas** to decouple nonlinear systems of equations into solving smaller ones at a time"
   ]
  },
  {
   "cell_type": "markdown",
   "metadata": {},
   "source": [
    "### Jacobi iterations\n",
    "\n",
    "In the Jacobi iterations, $M=D$ is the diagonal of $A$ (and $N$ is $A$ with its diagonal culled out): $$G=G_J:=D^{-1}(L+U)$$ \n",
    "\n",
    "$$x^{(k+1)}=G_{J} x^{(k)}+ c_{J}$$\n",
    "\n",
    "* **Very easy parallelization**\n",
    "\n",
    "\n",
    "$$ \n",
    "a_{11} \\mathbf{x_1^{(k+1)}} + a_{12} x_2^{(k)}+a_{13} x_3^{(k)}+...+a_{1n} x_n^{(k)}=b_1 \n",
    "$$\n",
    "\n",
    "$$ \n",
    "a_{21} x_1^{(k)} + a_{22} \\mathbf{x_2^{(k+1)}}+a_{13} x_3^{(k)}+...+a_{1n} x_n^{(k)}=b_2 \n",
    "$$\n",
    "\n",
    "$$\\vdots$$\n",
    "\n",
    "**Jacobi method converges for diagonally dominant matrices.**\n",
    "\n",
    "\n",
    "**Jacobi iterations for solving nonlinear equations:** $ f_1(x) = 0,f_2(x)=0,...,f_n(x)=0, x=(x_1,x_2,...,x_n) $\n",
    "\n",
    "$$ f_1(\\mathbf{x_1^{(k+1)}}, x_2^{(k)}, ..., x_n^{(k)})=0 $$\n",
    "$$ f_2({x_1^{(k)}}, \\mathbf{x_2^{(k+1)}}, ..., x_n^{(k)})=0 $$\n",
    "$$\\vdots$$"
   ]
  },
  {
   "cell_type": "code",
   "execution_count": 1,
   "metadata": {},
   "outputs": [],
   "source": [
    "using LinearAlgebra"
   ]
  },
  {
   "cell_type": "code",
   "execution_count": 2,
   "metadata": {},
   "outputs": [
    {
     "name": "stdout",
     "output_type": "stream",
     "text": [
      "[0.05053332648312581, -0.17956771997209509, -0.2529689571345711]\n",
      "[0.21180423113479036, 0.15437869579166155, 0.10962149865236209]\n",
      "[0.03623781124595906, -0.03366306109688892, -0.09040311496193816]\n",
      "[0.13385354670795924, 0.09316449631918618, 0.05345472684491567]\n",
      "[0.06533068268268807, 0.009590496806577939, -0.03591004197416863]\n",
      "[0.10885491323093499, 0.06360916807428396, 0.024524276145713682]\n",
      "[0.07992088354142911, 0.027828979346798524, -0.01425567037951667]\n",
      "[0.0987109052444953, 0.05105669920742557, 0.011469577917663582]\n",
      "[0.08634778678321582, 0.035755927434402486, -0.005233154230045877]\n",
      "[0.09441876078213328, 0.0457338518831608, 0.0057641091074878605]\n",
      "[0.08912399689112149, 0.039182686815102646, -0.0014106389758010238]\n",
      "[0.09258665432971978, 0.04346452308602135, 0.0032984488021751777]\n",
      "[0.09031756074214319, 0.04065751265787132, 0.0002198544738837235]\n",
      "[0.09180254112626063, 0.042494042012541665, 0.0022377354495803736]\n",
      "[0.09082987096261756, 0.04129089485316502, 0.0009173618955706435]\n",
      "[0.09146661246069582, 0.04207842298507372, 0.0017823023387556246]\n",
      "[0.09104962470135858, 0.04156264907497887, 0.0012161225733968131]\n",
      "[0.09132263341298519, 0.041900317716945655, 0.0015869176047715286]\n",
      "[0.09114386117517942, 0.04167919738129534, 0.0013441591775546578]\n",
      "[0.09126091277047454, 0.04182397334893029, 0.0015031259328095459]\n",
      "[0.09118426755037108, 0.04172917288808297, 0.0013990433586966253]\n",
      "[0.09123445241477442, 0.04179124464308906, 0.0014671970548809875]\n",
      "[0.0912015919549179, 0.04175060053410776, 0.0014225724185192973]\n",
      "[0.09122310816762266, 0.04177721317794751, 0.0014517922127743493]\n",
      "[0.09120901970057821, 0.041759787603524216, 0.0014326598633190154]\n"
     ]
    },
    {
     "ename": "UndefVarError",
     "evalue": "UndefVarError: x not defined",
     "output_type": "error",
     "traceback": [
      "UndefVarError: x not defined",
      "",
      "Stacktrace:",
      " [1] top-level scope at In[2]:29"
     ]
    }
   ],
   "source": [
    "#Example: Jacobi iterations\n",
    "\n",
    "A=[10. 2. 3.; 4. 15. 6.; 7. 8. 19.]\n",
    "\n",
    "#What happens if the diagonal elements are smaller, but A is still invertible?\n",
    "#A=[1. 2. 3.; 4. 5. 6.; 7. 8. 19.]\n",
    "\n",
    "\n",
    "M=zeros(3,3)\n",
    "\n",
    "M=diagm( 0=> diag(A))\n",
    "\n",
    "N=M-A\n",
    "\n",
    "Minv = inv(M)\n",
    "\n",
    "b=ones(3)\n",
    "bb=ones(3)\n",
    "xx=rand(3)\n",
    "\n",
    "#the following for-loop is only for illustrating teh concept of Jacobi iteration\n",
    "#in practice, one should never allocate memory for M or Minv\n",
    "for k=1:25\n",
    "   \n",
    "   global xx,bb\n",
    "   xx = Minv*(N*xx+bb) \n",
    "   println(xx)\n",
    "end\n",
    "\n",
    "println(\"\\nChecking the residual: \", A*x-b)"
   ]
  },
  {
   "cell_type": "code",
   "execution_count": 3,
   "metadata": {},
   "outputs": [
    {
     "name": "stdout",
     "output_type": "stream",
     "text": [
      "The eigenvalues of Minv*N is important. \n"
     ]
    },
    {
     "data": {
      "text/plain": [
       "3-element Array{Float64,1}:\n",
       " -0.654780355409762  \n",
       "  0.22381548783575786\n",
       "  0.4309648675740044 "
      ]
     },
     "execution_count": 3,
     "metadata": {},
     "output_type": "execute_result"
    }
   ],
   "source": [
    "println(\"The eigenvalues of Minv*N is important. \")\n",
    "eigvals(Minv*N)"
   ]
  },
  {
   "cell_type": "code",
   "execution_count": 4,
   "metadata": {},
   "outputs": [
    {
     "data": {
      "text/plain": [
       "JacobiIterations! (generic function with 1 method)"
      ]
     },
     "execution_count": 4,
     "metadata": {},
     "output_type": "execute_result"
    }
   ],
   "source": [
    "#a more appropirate way to implementing the JAcobi iterations\n",
    "function JacobiIterations!(x, A, b, numitrs)\n",
    "   \n",
    "   xnext=copy(x)\n",
    "   sum=0.0\n",
    "    \n",
    "   for itr=1:numitrs \n",
    "   for i=1:size(A,1)\n",
    "        sum=0.0\n",
    "        for j in [1:i-1; i+1:size(A,2)]\n",
    "            sum+=A[i,j]*x[j]\n",
    "        end\n",
    "        xnext[i] = (b[i]-sum)/A[i,i]\n",
    "   end\n",
    "    \n",
    "   x.=xnext\n",
    "   #println(itr,\": \", x)\n",
    "   end \n",
    "end\n",
    "\n",
    "\n",
    "function JacobiIterations!(x, A, b, tol; max_itrs=100000)\n",
    "   \n",
    "   xnext=copy(x)\n",
    "   res=1.0\n",
    "\n",
    "   itr=0\n",
    "    \n",
    "   while res>tol && itr<max_itrs\n",
    "        x.=xnext        \n",
    "    for i=1:size(A,1)\n",
    "        sum=0.0\n",
    "        for j in [1:i-1; i+1:size(A,2)]\n",
    "            sum+=A[i,j]*x[j]\n",
    "        end\n",
    "        xnext[i] = (b[i]-sum)/A[i,i]\n",
    "    end\n",
    "    \n",
    "    res=norm(xnext-x)\n",
    "    itr+=1\n",
    "   end \n",
    "    \n",
    "   println(\"Jacobi finishes in \",itr,\" iterations.\")\n",
    "\n",
    "end"
   ]
  },
  {
   "cell_type": "code",
   "execution_count": 5,
   "metadata": {},
   "outputs": [
    {
     "name": "stdout",
     "output_type": "stream",
     "text": [
      "Jacobi finishes in 0 iterations.\n",
      "[0.323553813262617, 0.289911152918378, 0.5783193054253175]\n",
      "[4.550318354738879, 8.112798379378042, 14.572232719266376]\n"
     ]
    }
   ],
   "source": [
    "x=rand(3)\n",
    "\n",
    "JacobiIterations!(x, A, b, 25)\n",
    "\n",
    "println(x)\n",
    "println(A*x-b)"
   ]
  },
  {
   "cell_type": "markdown",
   "metadata": {},
   "source": [
    "### Gauss-Seidel iterations\n",
    "\n",
    "In the Gauss-Seidel iterations, $M$ is the lower triangular part of $A$ (including the diagonal)\n",
    "\n",
    "$$ A= D-L-U, M=D-L, N=U \\implies G_{GS}:=(D-L)^{-1}U$$\n",
    "\n",
    "$$x^{(k+1)}=G_{GS} x^{(k)}+ c_{GS}$$\n",
    "\n",
    "* This algorithm is of **sequential nature**:\n",
    "    * Solve for first variable, $x_1$ in the first equation, using the previous guess for all other variables    \n",
    "$$ \n",
    "a_{11} \\mathbf{x_1} + a_{12} x_2^{(k)}+a_{13} x_3^{(k)}+...+a_{1n} x_n^{(k)}=b_1 \n",
    "$$\n",
    "    Obtain the value of $\\mathbf{x_1^{(k+1)}}$.\n",
    "    \n",
    "    * Solve for the second variable, $x_2$, in the second equation, using the value $\\mathbf{x_1^{(k+1)}}$, and the previous guess for all other variables\n",
    "$$ \n",
    "a_{21} \\mathbf{x_1^{(k+1)}} + a_{22} \\mathbf{x_2}+a_{13} x_3^{(k)}+...+a_{1n} x_n^{(k)}=b_2 \n",
    "$$\n",
    "    Obtain the value of $\\mathbf{x_2^{(k+1)}}$.\n",
    "$$ \\vdots$$\n",
    "\n",
    "Solving nonlinear equations: $ f_1(x) = 0,f_2(x)=0,...,f_n(x)=0, x=(x_1,x_2,...,x_n) $\n",
    "\n",
    "$$ f_1(\\mathbf{x_1^{(k+1)}}, x_2^{(k)}, ..., x_n^{(k)})=0 $$\n",
    "$$ f_2(\\mathbf{x_1^{(k+1)}}, \\mathbf{x_2^{(k+1)}}, ..., x_n^{(k)})=0 $$\n",
    "$$\\vdots$$"
   ]
  },
  {
   "cell_type": "code",
   "execution_count": 6,
   "metadata": {},
   "outputs": [
    {
     "data": {
      "text/plain": [
       "GaussSeidelIterations! (generic function with 1 method)"
      ]
     },
     "execution_count": 6,
     "metadata": {},
     "output_type": "execute_result"
    }
   ],
   "source": [
    "function GaussSeidelIterations!(x, A, b, tol; max_itrs=100000)\n",
    "   \n",
    "   itr=0\n",
    "   res=1.0\n",
    "    \n",
    "   while res>tol && itr<max_itrs #for itr=1:numitrs \n",
    "    xold=copy(x)\n",
    "        \n",
    "    for i=1:size(A,1)\n",
    "        sum=0.0\n",
    "            for j in [1:i-1; i+1:size(A,2)]\n",
    "            sum+=A[i,j]*x[j]\n",
    "        end\n",
    "        x[i] = (b[i]-sum)/A[i,i]\n",
    "    end\n",
    "        \n",
    "    res=norm(xold-x)\n",
    "    itr+=1\n",
    "   end\n",
    "   \n",
    "   println(\"Gauss-Seidel finishes in \",itr,\" iterations.\")\n",
    "end"
   ]
  },
  {
   "cell_type": "markdown",
   "metadata": {},
   "source": [
    "### Gauss-Seidel is faster than Jacobi"
   ]
  },
  {
   "cell_type": "code",
   "execution_count": 58,
   "metadata": {},
   "outputs": [
    {
     "data": {
      "text/plain": [
       "100×100 Array{Float64,2}:\n",
       " 1.00157      0.000250114  0.00149694   …  0.000152362  0.00096891 \n",
       " 0.00112331   1.00066      0.0012599       0.00196979   0.00120999 \n",
       " 0.000949708  0.00144849   1.00193         5.50479e-5   0.00126919 \n",
       " 0.00174919   0.000610772  0.00188507      0.000116819  0.00174736 \n",
       " 0.00152282   0.000825299  0.00126561      2.8276e-5    0.000647735\n",
       " 0.00160587   0.000913379  0.00177287   …  0.000129018  0.00138372 \n",
       " 0.00163859   0.000439454  0.00134131      0.00194249   0.0016576  \n",
       " 0.00161961   0.000643386  0.00181091      0.000847802  0.000494094\n",
       " 3.86519e-6   0.00194103   0.00183352      0.00089188   0.00116436 \n",
       " 0.000924208  0.0012276    0.000769738     0.000449646  0.00095254 \n",
       " 0.000112491  0.00119056   9.38858e-7   …  0.00105343   0.000418245\n",
       " 0.00049524   0.00181685   0.001806        0.00169527   0.0014174  \n",
       " 0.00116172   4.9957e-5    0.000502303     0.000196907  0.00138762 \n",
       " ⋮                                      ⋱                          \n",
       " 0.00168877   0.000459332  0.00146636      0.000277095  0.000335432\n",
       " 0.000315832  0.00156697   0.000515194     0.00126211   0.000382564\n",
       " 0.00136167   0.00122778   0.000679116  …  0.000682485  0.000185331\n",
       " 0.000144466  0.000493564  0.000782751     0.000706767  0.000434623\n",
       " 0.00139753   0.00173488   0.0019791       0.000472515  0.000488367\n",
       " 0.0013592    0.000438725  0.00112949      0.000358258  0.00176541 \n",
       " 0.000157781  0.00196137   0.000891789     0.00169076   1.57269e-5 \n",
       " 0.000859979  0.000128232  0.000673996  …  0.000540568  0.00158413 \n",
       " 0.00056923   0.00103615   0.0016076       0.00187581   0.00181114 \n",
       " 0.00118505   0.00138502   0.00120809      0.000487718  0.00179536 \n",
       " 0.000675486  0.000603159  0.0010186       1.00156      0.0013642  \n",
       " 0.00181384   0.000540957  0.00193187      0.00154747   1.00118    "
      ]
     },
     "metadata": {},
     "output_type": "display_data"
    },
    {
     "name": "stdout",
     "output_type": "stream",
     "text": [
      "Gauss-Seidel finishes in 6 iterations.\n",
      "[0.9120309529511862, 0.9134136435738935, 0.912948635440938, 0.9060039177705486, 0.9026038099255504, 0.9110451184619583, 0.9074284029174863, 0.918765349590702, 0.9105146950900884, 0.9065923163744541, 0.913001234240074, 0.9047249312221112, 0.9147624665697199, 0.9111162661508538, 0.9176317230479875, 0.903364453387345, 0.9002610627036045, 0.9030185409403939, 0.9136841881246258, 0.9137164495444415, 0.9098211951329184, 0.9162138112671334, 0.9149218177176396, 0.9093738389861514, 0.9123114313041721, 0.909444685494364, 0.9145052067293258, 0.9133833387846739, 0.9030115836091868, 0.9140474115365999, 0.9086369072804279, 0.8978479852950875, 0.8977784629087492, 0.9096124025316028, 0.9164716800126204, 0.9027854538927532, 0.9080350853705987, 0.9083876019313846, 0.9097797497958655, 0.9174994252940214, 0.9206257643015576, 0.9035102397103149, 0.9145669444492912, 0.9022490434999164, 0.9095006574870261, 0.9006906638241964, 0.9081087668519177, 0.903050671083964, 0.9198334017704316, 0.9153917072439197, 0.9094357648688994, 0.9156196128094234, 0.9096584626308989, 0.9141302224787026, 0.9075916196045632, 0.9082501899132176, 0.9032961063941768, 0.9098181806351797, 0.9116582609214445, 0.9144526118072659, 0.9099005773937218, 0.9063616621657441, 0.9245321030034884, 0.9106920351492253, 0.9148254727469501, 0.9180704207349027, 0.9166669324716543, 0.9179061116898678, 0.9082264324903524, 0.9113155527228088, 0.910714489302068, 0.9029004602077825, 0.9032761565843909, 0.9120088857363203, 0.9075061941190623, 0.9059699914081191, 0.9055204680942488, 0.9185040506509351, 0.9083719307717008, 0.9151056912311001, 0.9065919141631896, 0.9118301906085289, 0.9209549021072783, 0.910641668695975, 0.9074346689665992, 0.910168255329857, 0.9092514853132451, 0.9082381830287243, 0.9165391860655773, 0.9097258563123216, 0.9074361402164047, 0.9172849742813564, 0.9075502638295138, 0.9147864455787139, 0.9222939411852139, 0.9121159357841137, 0.9012397390579431, 0.9082822429142173, 0.9115058013784992, 0.9102344741191543]\n",
      "[7.075806607304003e-11, 6.931255569497807e-11, 7.492539921827301e-11, 9.288947389052282e-11, 9.706457859692819e-11, 1.1197465177303911e-10, 1.0333467415080122e-10, 9.092149255707227e-11, 8.647038640674509e-11, 1.1713252590084267e-10, 1.0310929887680231e-10, 1.2066014853928664e-10, 1.1037459834994934e-10, 1.1665246546499475e-10, 1.0854450671615723e-10, 1.3989009950421405e-10, 1.2679635119638988e-10, 1.1928014131967757e-10, 1.1424572399221233e-10, 1.2190204401463234e-10, 1.037248065216545e-10, 1.0986700438309072e-10, 1.1624967655166074e-10, 1.1073719718979191e-10, 1.062130383644444e-10, 1.0421397078630434e-10, 8.633516124234575e-11, 9.733214234586285e-11, 1.012125938615327e-10, 9.14459619139052e-11, 9.544542933781486e-11, 1.0213829781946515e-10, 9.033640502309481e-11, 8.655542949043138e-11, 6.706790678379093e-11, 8.285638841698528e-11, 7.689204828409402e-11, 7.966716175644706e-11, 6.140465913517801e-11, 6.615152869926533e-11, 5.531619606813365e-11, 6.307909750091767e-11, 5.6036730811115376e-11, 6.536060581652237e-11, 4.361044858569585e-11, 5.543099312887989e-11, 4.537104025814642e-11, 4.287348254194967e-11, 3.3726355042063005e-11, 3.20958815080985e-11, 2.794697806507429e-11, 3.154898564616815e-11, 3.4796610037801656e-11, 3.090017131057721e-11, 2.645927921207658e-11, 2.4158008926633556e-11, 2.8917090943991752e-11, 1.689093309664713e-11, 2.0632162645028984e-11, 1.766231605415669e-11, 1.5758283566924547e-11, 1.6981971384666394e-11, 1.1391998455678731e-11, 1.1153744594594173e-11, 1.191757803553628e-11, 7.588818462522795e-12, 6.7912342416320826e-12, 5.375255796025158e-12, 6.280975739514361e-12, 5.999645225074346e-12, 6.902478588699523e-12, 6.5571992280410996e-12, 4.690470234436361e-12, 3.610223231476084e-12, 4.247491247610924e-12, 2.830846668189224e-12, 1.7152945730458669e-12, 1.7625900738948985e-12, 2.3450130726132556e-12, 1.4013235016818726e-12, 1.2867484855405564e-12, 7.345235530920036e-13, 7.72937269744034e-13, 4.973799150320701e-13, 1.9251267247000214e-13, 4.221067939624845e-13, 1.7497114868092467e-13, 7.416289804496046e-14, 1.2323475573339238e-13, -9.026113190202523e-14, -6.361577931102147e-14, -1.0635936575909e-13, -1.0591527654923993e-13, -2.162714451969805e-13, -1.2367884494324244e-13, -1.9828583219805296e-13, -3.0164759579065503e-13, -1.5054624213917123e-13, -9.037215420448774e-14, 0.0]\n",
      "\n",
      "Jacobi finishes in 9 iterations.\n",
      "[0.9120309495445641, 0.9134136402153573, 0.9129486320869242, 0.906003914093999, 0.9026038061390056, 0.9110451149403699, 0.9074283992503518, 0.9187653463798391, 0.9105146916309084, 0.9065923126675279, 0.9130012308282196, 0.9047249274307608, 0.914762463251356, 0.9111162626472583, 0.9176317197777655, 0.9033644495907563, 0.900261058788583, 0.9030185371547628, 0.9136841847253557, 0.9137164461207431, 0.9098211916210694, 0.9162138079993898, 0.9149218143404056, 0.909373835450122, 0.9123114278792728, 0.9094446819481674, 0.9145052034153334, 0.9133833353747078, 0.9030115798363003, 0.9140474081952786, 0.9086369036854717, 0.897847981285272, 0.8977784588982276, 0.9096123990271113, 0.916471676808686, 0.902785450114791, 0.9080350818222046, 0.9083875983386684, 0.9097797463137001, 0.9174994220841801, 0.9206257612301828, 0.9035102359291952, 0.9145669411058042, 0.9022490397597931, 0.9095006539598878, 0.9006906599590283, 0.9081087633453573, 0.9030506673085731, 0.9198333986391798, 0.9153917039888196, 0.9094357614014991, 0.91561960956299, 0.909658459138321, 0.9141302191367606, 0.9075916160765096, 0.9082501864004598, 0.9032961027116578, 0.9098181771619462, 0.9116582575528255, 0.9144526085230724, 0.9099005739592368, 0.9063616585195027, 0.9245321001293133, 0.9106920317653293, 0.9148254695315124, 0.9180704175866601, 0.9166669292516898, 0.9179061085414724, 0.9082264289860028, 0.9113155493274695, 0.9107144858782037, 0.9029004565229446, 0.9032761528509005, 0.9120088823941436, 0.9075061906267361, 0.905969987850436, 0.9055204644871563, 0.9185040475687953, 0.9083719272721061, 0.915105688007237, 0.906591910573825, 0.9118301872843476, 0.9209548990790987, 0.9106416653106479, 0.9074346654734091, 0.9101682519263338, 0.909251481838302, 0.9082381795709833, 0.9165391828513386, 0.9097258529024068, 0.907436136709689, 0.9172849711330436, 0.9075502603081099, 0.9147864423071675, 0.9222939382551639, 0.9121159323971616, 0.9012397352883125, 0.9082822394257438, 0.9115057980291166, 0.910234470720035]\n",
      "[-3.670757475759956e-9, -3.6154575999702843e-9, -3.609662679870951e-9, -3.940836212912302e-9, -4.058058333811232e-9, -3.749733523683574e-9, -3.915619273264781e-9, -3.428328065879782e-9, -3.712229190711014e-9, -3.944096715891021e-9, -3.6391273328106877e-9, -4.033442246864638e-9, -3.531618220087296e-9, -3.7247508410942487e-9, -3.474564080896414e-9, -4.024646504952045e-9, -4.168467016008037e-9, -4.03422228956174e-9, -3.614801014073521e-9, -3.628847666803381e-9, -3.750675769964573e-9, -3.472608200993932e-9, -3.5833822575881413e-9, -3.7696673560461136e-9, -3.6517642243438786e-9, -3.787348767936294e-9, -3.5523444186225106e-9, -3.642447676810434e-9, -4.039491963148123e-9, -3.575722939963555e-9, -3.847961171921099e-9, -4.294005262472922e-9, -4.308401635455539e-9, -3.761647882072339e-9, -3.4519302971602883e-9, -4.062707503749152e-9, -3.820245786378962e-9, -3.861320818643321e-9, -3.7641032513136e-9, -3.457979458332261e-9, -3.3178365610453397e-9, -4.0853750382652265e-9, -3.612433463473508e-9, -4.044430346183958e-9, -3.827826833280312e-9, -4.189719682301529e-9, -3.8079772668453415e-9, -4.102124528948536e-9, -3.402572223976108e-9, -3.545323368214781e-9, -3.782654744988179e-9, -3.5341443105352255e-9, -3.800630254957582e-9, -3.6376787138081568e-9, -3.849544238931912e-9, -3.8346769093422495e-9, -4.021177058000092e-9, -3.799842107632401e-9, -3.6810450243507375e-9, -3.589760488864613e-9, -3.761001288182797e-9, -3.988106178631767e-9, -3.147854865659383e-9, -3.7110361450487517e-9, -3.5242937457269363e-9, -3.4533323978180874e-9, -3.531226311359603e-9, -3.4548287564106772e-9, -3.847162255432579e-9, -3.72558406347423e-9, -3.756728816917132e-9, -4.047894575087696e-9, -4.096865180436282e-9, -3.672907089580235e-9, -3.838160678171221e-9, -3.91034249425104e-9, -3.968554596056606e-9, -3.3876513816366582e-9, -3.846544527341678e-9, -3.546183902081168e-9, -3.942255633049285e-9, -3.658617742097192e-9, -3.328717634865086e-9, -3.7242650074986727e-9, -3.844866425239957e-9, -3.74590114482487e-9, -3.817943294848192e-9, -3.8053310502661475e-9, -3.5312993640346235e-9, -3.75355069248684e-9, -3.858145802837498e-9, -3.4632134937595538e-9, -3.871414633316306e-9, -3.5955702859524763e-9, -3.2250915271703207e-9, -3.721958741209619e-9, -4.147586274427795e-9, -3.8363411336561626e-9, -3.6857147334146134e-9, -3.738665821373388e-9]\n"
     ]
    }
   ],
   "source": [
    "A=[10. 2. 3.; -4. 5. 1.3; 2. 8. 19.]\n",
    "\n",
    "N=100\n",
    "\n",
    "A = I(N)+ 0.002*rand(N,N)\n",
    "\n",
    "display(A)\n",
    "\n",
    "b=ones(N)\n",
    "\n",
    "x0=rand(N)\n",
    "\n",
    "x=copy(x0)\n",
    "GaussSeidelIterations!(x, A, b, 1e-7)\n",
    "\n",
    "println(x)\n",
    "println(A*x-b,\"\\n\")\n",
    "\n",
    "x=copy(x0)\n",
    "JacobiIterations!(x, A, b, 1e-7)\n",
    "\n",
    "println(x)\n",
    "println(A*x-b)\n"
   ]
  },
  {
   "cell_type": "markdown",
   "metadata": {},
   "source": [
    "## Successive over relaxation (SOR)\n",
    "\n",
    "SOR is obtained by *averaging* the Gauss-Seidel update, $x^{(k+1)}_{GS}$, with the approximation computed in the previous iteration, $x^{(k)}$:\n",
    "\n",
    "$$ x^{(k+1)}_{SOR}:= \\omega x^{(k+1)}_{GS}+(1-\\omega) x^{(k)}. $$\n",
    "\n",
    "\n",
    "Three important theorems about SOR:\n",
    "\n",
    "Theorem (Kahan): Let $a_{ii}\\neq 0, i=1,2,\\cdots,n$. **If SOR converges, then $0<\\omega<2$.**\n",
    "\n",
    "Theorem (Ostrowski-Reich): **SOR converges for all $0<\\omega<2$ iff $A$ is invertible, symmetric, positive definite.**\n",
    "\n",
    "**Choose $\\omega$ to make $\\rho(G_{SOR})$ as small as possible.**\n",
    "\n",
    "* This was pioneered by David Young, here at UT Ausitn in 1950'\n",
    "\n",
    "Theorem (Young): $\\omega_{opt}$ as a function of $\\rho(G_J)$.\n",
    "\n",
    "For more in-depth exposition about the choice of $\\omega$, check out GGK, Sec 11.3.4.\n",
    "\n",
    "## Symmetric Successive over relaxation (SSOR)\n",
    "\n",
    "Involves two SOR updates:\n",
    "\n",
    "* One SOR step in which the G-S update involves solving each row of the linear system in **increasing order** (row 1, than row 2,..., row n). \n",
    "    * In other words, the G-S iteration is defined by $A=D-L-U=M-N$, with $M=D-L$.\n",
    "\n",
    "* One SOR step in which the G-S update involves solving each row of the linear system in **decreasing order** (row n, than row (n-1),..., row 1).\n",
    "    * In other words, the G-S iteration is defined by $A=D-L-U=M-N$, with $M=D-U$."
   ]
  },
  {
   "cell_type": "code",
   "execution_count": 8,
   "metadata": {},
   "outputs": [
    {
     "data": {
      "text/plain": [
       "SOR! (generic function with 1 method)"
      ]
     },
     "execution_count": 8,
     "metadata": {},
     "output_type": "execute_result"
    }
   ],
   "source": [
    "function SOR!(x, A, b, ω, tol; max_itrs=100000)\n",
    "   \n",
    "   sum=0.0\n",
    "   itr=0\n",
    "   xold=copy(x)\n",
    "    \n",
    "   res=1.0 \n",
    "    \n",
    "   while res>tol && itr<max_itrs \n",
    "    xold.=x\n",
    "    for i=1:size(A,1)\n",
    "        sum=0.0\n",
    "        for j=1:i-1 \n",
    "            sum+=A[i,j]*x[j]\n",
    "        end\n",
    "        for j=i+1:size(A,2) \n",
    "            sum+=A[i,j]*x[j]\n",
    "        end\n",
    "\n",
    "        x[i] = ω*(b[i]-sum)/A[i,i]+(1.0-ω)*xold[i]\n",
    "    end\n",
    "    res=norm(xold-x)\n",
    "    itr+=1\n",
    "   end\n",
    "   \n",
    "   println(\"SOR finishes in \",itr,\" iterations.\")\n",
    "end"
   ]
  },
  {
   "cell_type": "code",
   "execution_count": 62,
   "metadata": {},
   "outputs": [
    {
     "name": "stdout",
     "output_type": "stream",
     "text": [
      "Gauss-Seidel finishes in 25 iterations.\n",
      "[0.17124735729379462, 0.052854122621400344, -0.04439746300198322]\n",
      "[-3.8125058665627876e-13, -1.3171685964152857e-12, 0.0]\n",
      "\n",
      "Jacobi finishes in 481 iterations.\n",
      "[0.17124735729413046, 0.052854122621843184, -0.04439746300180666]\n",
      "[3.04911651483053e-12, 5.956790616323815e-12, 8.365530490550555e-12]\n",
      "\n",
      "SOR finishes in 59 iterations.\n",
      "  0.000050 seconds (137 allocations: 8.188 KiB)\n",
      "[0.17124735729340707, 0.0528541226203849, -0.04439746300088907]\n",
      "[-1.4548362514688051e-12, -7.472356067239616e-12, 4.481748305806832e-12]\n",
      "\n"
     ]
    }
   ],
   "source": [
    "#Example: Jacobi iterations\n",
    "\n",
    "A=[6. 2. 3.; 4. 11. 6.; 7. 8. 14.]\n",
    "\n",
    "\n",
    "M=zeros(3,3)\n",
    "\n",
    "M=diagm( 0=> diag(A,0))\n",
    "\n",
    "N=M-A\n",
    "\n",
    "Minv = inv(M)\n",
    "\n",
    "tol=1e-12\n",
    "\n",
    "b=ones(3)\n",
    "x=rand(3)\n",
    "\n",
    "x0=rand(3)\n",
    "\n",
    "x=copy(x0)\n",
    "GaussSeidelIterations!(x, A, b, tol)\n",
    "\n",
    "println(x)\n",
    "println(A*x-b,\"\\n\")\n",
    "\n",
    "x=copy(x0)\n",
    "JacobiIterations!(x, A, b, tol)\n",
    "\n",
    "println(x)\n",
    "println(A*x-b,\"\\n\")\n",
    "\n",
    "#SOR with non-optimal weight\n",
    "x=copy(x0)\n",
    "@time SOR!(x, A, b, 0.68, tol)\n",
    "\n",
    "println(x)\n",
    "println(A*x-b,\"\\n\")"
   ]
  },
  {
   "cell_type": "markdown",
   "metadata": {},
   "source": [
    "### Example: solving a two-point boundary value problem for Poisson's equation\n",
    "\n",
    "$$ -u_{xx} =f(x),~~~0<x<1,~~~u(0)=u(1)=0 $$\n",
    "\n",
    "* Discretize the unit interval: $x_j = j\\Delta x, j=0,1,2,\\cdots,N,\\Delta x =1/N$\n",
    "\n",
    "* Approximate the differential equation on the grid nodes:\n",
    "    $$ -u_{xx} (x_j)=f(x_j) \\approx -(u_{j+1}-2u_j+u_{j-1})/\\Delta x^2 = f(x_j),~~~j=1,2,\\cdots,N-1 $$\n",
    "\n",
    "* Set the boundary conditions: $u_0=0=u_N$.\n",
    "\n",
    "This leads to a linear system to solve: $AU=F$."
   ]
  },
  {
   "cell_type": "code",
   "execution_count": 46,
   "metadata": {},
   "outputs": [
    {
     "name": "stdout",
     "output_type": "stream",
     "text": [
      "  0.000204 seconds (11 allocations: 38.938 KiB)\n",
      "\n",
      "\n",
      "Gauss-Seidel finishes in 4016 iterations.\n",
      "  0.033931 seconds (204.90 k allocations: 96.885 MiB, 18.40% gc time)\n",
      "\n",
      "\n",
      "Jacobi finishes in 8021 iterations.\n",
      "  0.050704 seconds (401.13 k allocations: 189.708 MiB, 9.77% gc time)\n"
     ]
    }
   ],
   "source": [
    "using LinearAlgebra\n",
    "\n",
    "N=50\n",
    "xgrid=range(0.0, stop=1.0, length=N+1) #linspace(0,1,N+1)\n",
    "Δx=1/N\n",
    "\n",
    "f=x-> x.^2+0.0*sin(20*x)\n",
    "\n",
    "#The vector U stores (u1,u2,u3,cdots, u_(N-1))\n",
    "U=zeros(N-1)\n",
    "\n",
    "#N-2 because we exclude x=0 and X=1.\n",
    "#A=spdiagm( (-ones(N-2), 2.0*ones(N-1),-ones(N-2)), [-1,0,1])\n",
    "A=-2.0 .*diagm(0=>ones(N-1)) .+ diagm(1=>ones(N-2)) .+ diagm(-1=>ones(N-2))\n",
    "F=collect(f.(xgrid[2:end-1]))\n",
    "\n",
    "b=F.*Δx^2\n",
    "\n",
    "@time U=-A\\b\n",
    "\n",
    "Ugs=copy(b)\n",
    "Uj=copy(U)\n",
    "Usor=copy(U)\n",
    "\n",
    "println(\"\\n\")\n",
    "@time GaussSeidelIterations!(Ugs, A, b, 1e-10)\n",
    "\n",
    "println(\"\\n\")\n",
    "@time JacobiIterations!(Uj, A, b, 1e-10)"
   ]
  },
  {
   "cell_type": "markdown",
   "metadata": {},
   "source": [
    "The timings above for Gauss-Seidel and Jacobi iterations are not fair, because in real implementation, one would skip a lof of multiplications involving the zero entries in the matrix $A$."
   ]
  },
  {
   "cell_type": "code",
   "execution_count": 11,
   "metadata": {},
   "outputs": [
    {
     "data": {
      "image/png": "[encoded data removed]",
      "text/plain": [
       "Figure(PyObject <Figure size 640x480 with 1 Axes>)"
      ]
     },
     "metadata": {},
     "output_type": "display_data"
    },
    {
     "data": {
      "text/plain": [
       "1-element Array{PyCall.PyObject,1}:\n",
       " PyObject <matplotlib.lines.Line2D object at 0x13ad57b00>"
      ]
     },
     "execution_count": 11,
     "metadata": {},
     "output_type": "execute_result"
    }
   ],
   "source": [
    "using PyPlot\n",
    "\n",
    "plot(xgrid[2:end-1], U)"
   ]
  },
  {
   "cell_type": "markdown",
   "metadata": {},
   "source": [
    "### Poisson equation in three dimensions\n",
    "\n",
    "$$-(u_{xx}+u_{yy}+u_{zz})=f(x,y,z),~~~0<x,y,z<1$$\n",
    "\n",
    "with zero Dirichlet boundary conditions."
   ]
  },
  {
   "cell_type": "code",
   "execution_count": 12,
   "metadata": {},
   "outputs": [
    {
     "data": {
      "image/png": "[encoded data removed]",
      "text/plain": [
       "Figure(PyObject <Figure size 640x480 with 1 Axes>)"
      ]
     },
     "metadata": {},
     "output_type": "display_data"
    },
    {
     "data": {
      "text/plain": [
       "PyObject <matplotlib.image.AxesImage object at 0x13b070e10>"
      ]
     },
     "execution_count": 12,
     "metadata": {},
     "output_type": "execute_result"
    }
   ],
   "source": [
    "using LinearAlgebra, SparseArrays\n",
    "\n",
    "N=5\n",
    "xgrid=range(0,stop=1,length=N+1)\n",
    "Δx=1/N\n",
    "\n",
    "#assemling the finite different operator for the left hand side of the PDE\n",
    "T=spdiagm(0=>-2.0 .*ones(N-1), 1=>ones(N-2), -1=>ones(N-2)) \n",
    "Ii=spdiagm( 0=> ones(N-1))\n",
    "\n",
    "A=kron(T,Ii)+kron(Ii,T)\n",
    "\n",
    "using PyPlot\n",
    "spy(A)"
   ]
  },
  {
   "cell_type": "code",
   "execution_count": 13,
   "metadata": {},
   "outputs": [
    {
     "data": {
      "image/png": "[encoded data removed]",
      "text/plain": [
       "Figure(PyObject <Figure size 640x480 with 1 Axes>)"
      ]
     },
     "metadata": {},
     "output_type": "display_data"
    },
    {
     "data": {
      "text/plain": [
       "PyObject <matplotlib.image.AxesImage object at 0x13b899dd8>"
      ]
     },
     "execution_count": 13,
     "metadata": {},
     "output_type": "execute_result"
    }
   ],
   "source": [
    "A=kron(kron(T,Ii),Ii)+ kron(Ii,kron(Ii,T))+ kron(kron(Ii,T),Ii)\n",
    "\n",
    "size(A)\n",
    "\n",
    "using PyPlot\n",
    "spy(A)"
   ]
  },
  {
   "cell_type": "code",
   "execution_count": 48,
   "metadata": {},
   "outputs": [
    {
     "name": "stdout",
     "output_type": "stream",
     "text": [
      "size of the matrix:(13824, 13824)\n",
      "Optimal direct solver: \n",
      "  0.548099 seconds (74 allocations: 55.256 MiB, 0.67% gc time)\n",
      "LU:\n",
      "  0.276399 seconds (70 allocations: 88.185 MiB, 31.96% gc time)\n",
      "  0.364837 seconds (82 allocations: 173.523 MiB, 31.28% gc time)\n",
      "  0.142359 seconds (42 allocations: 86.761 MiB, 20.14% gc time)\n",
      "\n",
      "\n",
      "Gauss-Seidel finishes in 172 iterations.\n",
      "302.226181 seconds (4.76 M allocations: 245.111 GiB, 11.84% gc time)\n",
      "\n",
      "\n",
      "\n",
      "\n"
     ]
    }
   ],
   "source": [
    "N=25\n",
    "xgrid=range(0,stop=1,length=N+1)\n",
    "Δx=1/N\n",
    "\n",
    "f=(x,y)-> x.^2+y+z.^2\n",
    "\n",
    "#assemling the finite different operator for the left hand side of the PDE\n",
    "T=spdiagm(0=>-2.0 .*ones(N-1), 1=>ones(N-2), -1=>ones(N-2)) \n",
    "Ii=spdiagm( 0=> ones(N-1))\n",
    "\n",
    "#discretize the Laplace operator in 2D\n",
    "#A=kron(T,I)+kron(I,T)\n",
    "\n",
    "#discretize the Laplace operator in 3D\n",
    "A=kron(kron(T,Ii),Ii)+ kron(Ii,kron(Ii,T))+ kron(kron(Ii,T),Ii)\n",
    "\n",
    "F=ones(size(A,1))\n",
    "\n",
    "b=F.*Δx^2\n",
    "\n",
    "U=copy(F)\n",
    "Uj=copy(F)\n",
    "Ugs=copy(F)\n",
    "Usor=copy(F)\n",
    "\n",
    "println(\"size of the matrix:\", size(A))\n",
    "\n",
    "println(\"Optimal direct solver: \")\n",
    "@time Ud=A\\b\n",
    "\n",
    "println(\"LU:\")\n",
    "@time fac=lu(A)\n",
    "#Step 1:\n",
    "@time y=fac.L\\b[fac.p]\n",
    "#Step 2:\n",
    "@time x=fac.U\\y\n",
    "\n",
    "#@time U=inv(fac.U)*inv(fac.L)*b[fac.p]\n",
    "\n",
    "println(\"\\n\")\n",
    "@time GaussSeidelIterations!(Ugs, A, b, 1e-1)\n",
    "\n",
    "println(\"\\n\")\n",
    "#@time JacobiIterations!(Uj, A, b, 1e-12)\n",
    "\n",
    "println(\"\\n\")\n",
    "#@time SOR!(Usor, A, b, 1.5, 1e-12)"
   ]
  },
  {
   "cell_type": "markdown",
   "metadata": {
    "collapsed": true
   },
   "source": [
    "## Convergence of iterative algorithms\n",
    "\n",
    "Here we discuss the convergence issue for linear systems of equations and *linear* methods:\n",
    "\n",
    "Solve $Ax=b$ by the fixed point iterations defined below:\n",
    "\n",
    "Fixed Point Method: $$ x^{(k+1)} = Gx^{(k)}+c $$ where $G$ is a matrix and $x^{(k)}$ and $c$ are vectors.\n",
    "\n",
    "Solution vector $x^*$ is a fixed point for $Gx+c$: $$x^* = Gx^*+c$$\n",
    "\n",
    "Derive an equation for the errors:\n",
    "\n",
    "$$x^{(k+1)}-x^* =G(x^{(k)}-x^*)$$ \n",
    "\n",
    "* linearly convergent algorithms: (**the error in the next step is a linear function of the current error**)\n",
    "$$ e_{n+1} = a e_n $$\n",
    "\n",
    "### What you need to know\n",
    "The number $a$ above is related to the Eigenvalues of $G$.\n",
    "\n",
    "Consider the following simplied situation, where $x^{(0)}-x^*$ happens to be an Eigenvector of $G$, with the associated Eigenvalue denoted by $\\lambda$.\n",
    "\n",
    "Then, we notice that\n",
    "* $e^{(1)} =\\lambda e^{(0)}$ ... \n",
    "* $e^{(k)} =\\lambda^k e^{(0)}$\n",
    "\n",
    "So if $|\\lambda|<1$, $e^{(k)} \\rightarrow 0$ as $k\\rightarrow \\infty$!\n",
    "\n",
    "The next step is to assume that $G$ has a complete set of Eigenvalues so we can use the Eigenvectors to form a basis.\n",
    "$$Gv_j=\\lambda_j v_j$$\n",
    "\n",
    "Write the initial error vector using the new basis (as a linear combination of $v_j$'s):\n",
    "$$ x^{(0)}-x^* = c_1 v_1+c_2v_2+\\cdots+c_n v_n$$\n",
    "\n",
    "Then we have..."
   ]
  },
  {
   "cell_type": "markdown",
   "metadata": {},
   "source": [
    "## The conjugate gradient (CG) method of Hestenes and Stiefel (1952)\n",
    "\n",
    "$$Ax=b$$\n",
    "* It is optimal for symmetric positive definite systems: $A^T =A,~~~x^TAx>0,~\\forall x\\neq 0$\n",
    "* It is a type of **Krylov methods**\n",
    "* In each iteration, say iteration $k$, the algorithm chooses the next guess, $x^{(k+1)}$, by \n",
    "  * minimizes the residual, $r^{(k+1)}:=b-Ax^{(k+1)}$, \n",
    "  * in a special norm built from $A$ and $x^{(j)},j=1,2,\\cdots,k$.\n",
    "* Very simple, elegant and fast algorithm.\n",
    "\n",
    "* We have seen that solving teh model Poisson's problem in 1 and 2 dimenions, the backlash operator is faster than CG. But the situation changes when we solve the Poisson's equation in 3D, for which the matrix has more strides away from teh diagonal.\n",
    "\n",
    "* See Algorithm 11.15 in GGK or this workbook (instead of BF) for a more comprehensive view of teh CG algorithm.\n",
    "\n",
    "**Learning objectives**:\n",
    "\n",
    "* Know when CG is applicable"
   ]
  },
  {
   "cell_type": "code",
   "execution_count": 33,
   "metadata": {},
   "outputs": [
    {
     "data": {
      "text/plain": [
       "CG (generic function with 2 methods)"
      ]
     },
     "execution_count": 33,
     "metadata": {},
     "output_type": "execute_result"
    }
   ],
   "source": [
    "CG(A,b;kwargs...) = CG(x -> A*x,b;kwargs...)\n",
    "    \n",
    "function CG(A::Function, b; tol=1e-2, maxItr=1000)\n",
    "\n",
    "    n = length(b)\n",
    "\n",
    "    #initial guess\n",
    "    x=zeros(n)\n",
    "    \n",
    "    #initial residual\n",
    "    r=b-A(x)\n",
    "\n",
    "    p = copy(r)\n",
    "    \n",
    "    res0  = norm(r)\n",
    "\n",
    "    itr   = 1 \n",
    "    \n",
    "    for itr=1:maxItr\n",
    "        Ap = A(p)\n",
    "        pAp= dot(p,Ap)\n",
    "        α  = dot(r,p)/pAp\n",
    "\n",
    "        #update the approximate solution\n",
    "        x.+=α.*p\n",
    "        \n",
    "        #update the residual vector\n",
    "        r.-=α.*Ap\n",
    "            \n",
    "        #break the loop when tolerance is met\n",
    "        if norm(r)/res0 <= tol\n",
    "            break\n",
    "        end\n",
    "\n",
    "        #update search direction\n",
    "        β = -dot(Ap,r)/pAp           \n",
    "        p.=r.+β.*p\n",
    "    end\n",
    "\n",
    "    println(\"cg terminates after \", itr, \" steps, with residual=\", norm(r))\n",
    "    \n",
    "    x\n",
    "end"
   ]
  },
  {
   "cell_type": "code",
   "execution_count": 37,
   "metadata": {},
   "outputs": [
    {
     "name": "stdout",
     "output_type": "stream",
     "text": [
      "cg terminates after 1 steps, with residual=1.7008927367038972e-15\n",
      "  0.020896 seconds (353 allocations: 9.081 MiB)\n"
     ]
    },
    {
     "data": {
      "text/plain": [
       "3.609376587170471e-14"
      ]
     },
     "execution_count": 37,
     "metadata": {},
     "output_type": "execute_result"
    }
   ],
   "source": [
    "@time uu=CG(A,b, tol=1e-14)\n",
    "\n",
    "norm(Ud-uu)"
   ]
  },
  {
   "cell_type": "code",
   "execution_count": 65,
   "metadata": {},
   "outputs": [],
   "source": [
    "using KrylovMethods"
   ]
  },
  {
   "cell_type": "code",
   "execution_count": 66,
   "metadata": {},
   "outputs": [
    {
     "name": "stdout",
     "output_type": "stream",
     "text": [
      "cg iterated maxIter (=1500) times but reached only residual norm 1.05e+00 instead of tol=1.00e-10.\n",
      "  0.392077 seconds (877.73 k allocations: 44.803 MiB, 5.25% gc time)\n",
      "cg iterated maxIter (=1500) times but reached only residual norm 1.05e+00 instead of tol=1.00e-10.\n",
      "  0.000845 seconds (14.55 k allocations: 393.406 KiB)\n",
      "cg iterated maxIter (=1500) times but reached only residual norm 1.05e+00 instead of tol=1.00e-14.\n",
      "  0.000858 seconds (14.55 k allocations: 394.094 KiB)\n"
     ]
    },
    {
     "data": {
      "text/plain": [
       "(3, 3)"
      ]
     },
     "execution_count": 66,
     "metadata": {},
     "output_type": "execute_result"
    }
   ],
   "source": [
    "@time uu=KrylovMethods.cg(A, b, tol=1e-10, maxIter=1500, out=1);\n",
    "\n",
    "@time uu=KrylovMethods.cg(A, b, tol=1e-10, maxIter=1500, out=1);\n",
    "\n",
    "@time uu=KrylovMethods.cg(A, b, tol=1e-14, maxIter=1500, out=1);\n",
    "\n",
    "size(A)"
   ]
  }
 ],
 "metadata": {
  "anaconda-cloud": {},
  "kernelspec": {
   "display_name": "Julia 1.2.0",
   "language": "julia",
   "name": "julia-1.2"
  },
  "language_info": {
   "file_extension": ".jl",
   "mimetype": "application/julia",
   "name": "julia",
   "version": "1.2.0"
  }
 },
 "nbformat": 4,
 "nbformat_minor": 1
}
