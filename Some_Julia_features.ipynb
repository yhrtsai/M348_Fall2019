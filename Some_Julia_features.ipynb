{
 "cells": [
  {
   "cell_type": "code",
   "execution_count": 1,
   "metadata": {},
   "outputs": [
    {
     "ename": "DomainError",
     "evalue": "DomainError with -1.0:\nsqrt will only return a complex result if called with a complex argument. Try sqrt(Complex(x)).",
     "output_type": "error",
     "traceback": [
      "DomainError with -1.0:\nsqrt will only return a complex result if called with a complex argument. Try sqrt(Complex(x)).",
      "",
      "Stacktrace:",
      " [1] throw_complex_domainerror(::Symbol, ::Float64) at ./math.jl:31",
      " [2] sqrt(::Float64) at ./math.jl:493",
      " [3] top-level scope at In[1]:1"
     ]
    }
   ],
   "source": [
    "a=sqrt(-1.0)"
   ]
  },
  {
   "cell_type": "code",
   "execution_count": 2,
   "metadata": {},
   "outputs": [
    {
     "data": {
      "text/plain": [
       "0.0 + 1.0im"
      ]
     },
     "execution_count": 2,
     "metadata": {},
     "output_type": "execute_result"
    }
   ],
   "source": [
    "a=sqrt(-1+0im)"
   ]
  },
  {
   "cell_type": "code",
   "execution_count": 1,
   "metadata": {},
   "outputs": [
    {
     "name": "stdout",
     "output_type": "stream",
     "text": [
      "[20 -1][20 -1][10 -11]"
     ]
    }
   ],
   "source": [
    "x=[10 -11]\n",
    "y=x\n",
    "\n",
    "z=copy(x)\n",
    "\n",
    "x.+=10  #this means add 10 to each element in x \n",
    "\n",
    "show(x)\n",
    "show(y)\n",
    "show(z)\n"
   ]
  },
  {
   "cell_type": "code",
   "execution_count": 3,
   "metadata": {},
   "outputs": [
    {
     "name": "stdout",
     "output_type": "stream",
     "text": [
      "[18020 17999][20 -1]"
     ]
    },
    {
     "data": {
      "text/plain": [
       "50-element Array{Float64,1}:\n",
       " 0.9025799195356852\n",
       " 0.5806099029331316\n",
       " 0.7927689275683129\n",
       " 0.8423856030354578\n",
       " 0.9537813765902297\n",
       " 0.5985396508998305\n",
       " 0.6479431821705373\n",
       " 0.9991029936810589\n",
       " 0.9944513183613185\n",
       " 0.8449504739429653\n",
       " 0.9755246461977621\n",
       " 0.5979207675129155\n",
       " 0.9999178501606736\n",
       " ⋮                 \n",
       " 0.974718745827101 \n",
       " 0.6274089911913162\n",
       " 0.6229807279570975\n",
       " 0.9527882521000297\n",
       " 0.5414518410006074\n",
       " 0.9775694192589062\n",
       " 0.6116830836981395\n",
       " 0.6032653068770804\n",
       " 0.8145992870019921\n",
       " 0.9255989529197207\n",
       " 0.7920117208555676\n",
       " 0.7002436389818574"
      ]
     },
     "execution_count": 3,
     "metadata": {},
     "output_type": "execute_result"
    }
   ],
   "source": [
    "#this creates a new x, now y is not the same as the new x\n",
    "x=x.+9000\n",
    "\n",
    "show(x)\n",
    "show(y)\n",
    "\n",
    "x=rand(50)\n",
    "\n",
    "c= cos.(x)"
   ]
  },
  {
   "cell_type": "code",
   "execution_count": 4,
   "metadata": {},
   "outputs": [
    {
     "name": "stdout",
     "output_type": "stream",
     "text": [
      "[29][1280]"
     ]
    }
   ],
   "source": [
    "y.*=8\n",
    "\n",
    "show(x)\n",
    "show(y)"
   ]
  },
  {
   "cell_type": "code",
   "execution_count": 8,
   "metadata": {},
   "outputs": [
    {
     "data": {
      "text/plain": [
       "false"
      ]
     },
     "execution_count": 8,
     "metadata": {},
     "output_type": "execute_result"
    }
   ],
   "source": [
    "0.5+0.25==1.0"
   ]
  },
  {
   "cell_type": "code",
   "execution_count": 3,
   "metadata": {},
   "outputs": [
    {
     "data": {
      "text/plain": [
       "true"
      ]
     },
     "execution_count": 3,
     "metadata": {},
     "output_type": "execute_result"
    }
   ],
   "source": [
    "isapprox(0.1+0.2, 0.3)"
   ]
  },
  {
   "cell_type": "code",
   "execution_count": 4,
   "metadata": {},
   "outputs": [
    {
     "data": {
      "text/plain": [
       "Set([2, 3, 5, 6, 1])"
      ]
     },
     "execution_count": 4,
     "metadata": {},
     "output_type": "execute_result"
    }
   ],
   "source": [
    "Set([1, 2,2,3,5,1,6])"
   ]
  },
  {
   "cell_type": "code",
   "execution_count": 5,
   "metadata": {},
   "outputs": [
    {
     "data": {
      "text/plain": [
       "(0.04079487945362503, 0, 1)"
      ]
     },
     "metadata": {},
     "output_type": "display_data"
    },
    {
     "data": {
      "text/plain": [
       "(0.08074712517584737, 3, 2)"
      ]
     },
     "metadata": {},
     "output_type": "display_data"
    },
    {
     "data": {
      "text/plain": [
       "(0.872481956525355, 8, 3)"
      ]
     },
     "metadata": {},
     "output_type": "display_data"
    },
    {
     "data": {
      "text/plain": [
       "(0.5265502400293751, -2, 4)"
      ]
     },
     "metadata": {},
     "output_type": "display_data"
    },
    {
     "data": {
      "text/plain": [
       "(0.6038946033619614, 99, \"try\")"
      ]
     },
     "metadata": {},
     "output_type": "display_data"
    }
   ],
   "source": [
    "x=rand(5)\n",
    "y = [0,3,8,-2,99]\n",
    "z = (1,2,3,4, \"try\")\n",
    "\n",
    "for (i,j,k) in zip(x,y,z)\n",
    "    display((i,j,k))\n",
    "end"
   ]
  },
  {
   "cell_type": "code",
   "execution_count": 45,
   "metadata": {},
   "outputs": [
    {
     "data": {
      "text/plain": [
       "2×2 Array{Any,2}:\n",
       "   \"hej!\"                [0.676269 0.706368; 0.769981 0.248592]\n",
       " π = 3.1415926535897...  \"a\"                                   "
      ]
     },
     "metadata": {},
     "output_type": "display_data"
    },
    {
     "data": {
      "text/plain": [
       "3×2 Array{Any,2}:\n",
       "   \"hej!\"                 [0.676269 0.706368; 0.769981 0.248592]\n",
       " π = 3.1415926535897...   \"a\"                                   \n",
       "  3                      4                                      "
      ]
     },
     "execution_count": 45,
     "metadata": {},
     "output_type": "execute_result"
    }
   ],
   "source": [
    "A=Array{Any}(undef, 2,2)\n",
    "\n",
    "A[1,1]=\"hej!\"\n",
    "A[1,2]=rand(2,2)\n",
    "A[2,1]=pi\n",
    "A[2,2]=\"a\"\n",
    "\n",
    "display(A)\n",
    "\n",
    "vcat(A, [3 4])"
   ]
  },
  {
   "cell_type": "code",
   "execution_count": 6,
   "metadata": {},
   "outputs": [
    {
     "data": {
      "text/plain": [
       "(1, 2, :a)"
      ]
     },
     "execution_count": 6,
     "metadata": {},
     "output_type": "execute_result"
    }
   ],
   "source": [
    "a=(1,2,:a)"
   ]
  },
  {
   "cell_type": "code",
   "execution_count": 7,
   "metadata": {},
   "outputs": [
    {
     "name": "stdout",
     "output_type": "stream",
     "text": [
      "1: (0.04079487945362503, 0, 1)\n",
      "2: (0.08074712517584737, 3, 2)\n",
      "3: (0.872481956525355, 8, 3)\n",
      "4: (0.5265502400293751, -2, 4)\n",
      "5: (0.6038946033619614, 99, \"try\")\n"
     ]
    }
   ],
   "source": [
    "L=zip(x,y,z)\n",
    "\n",
    "for (n,item) in enumerate(L)\n",
    "    println(n,\": \", item)\n",
    "end"
   ]
  },
  {
   "cell_type": "code",
   "execution_count": 8,
   "metadata": {},
   "outputs": [
    {
     "data": {
      "text/plain": [
       "3-element Array{Int64,1}:\n",
       " 0\n",
       " 1\n",
       " 2"
      ]
     },
     "execution_count": 8,
     "metadata": {},
     "output_type": "execute_result"
    }
   ],
   "source": [
    "x = [0,1,2,3,4]\n",
    "y = [i for i in x if i < 3]"
   ]
  },
  {
   "cell_type": "code",
   "execution_count": 9,
   "metadata": {},
   "outputs": [
    {
     "data": {
      "text/plain": [
       "5-element Array{Int64,1}:\n",
       " 0\n",
       " 1\n",
       " 2\n",
       " 6\n",
       " 6"
      ]
     },
     "execution_count": 9,
     "metadata": {},
     "output_type": "execute_result"
    }
   ],
   "source": [
    "y=vcat(y,[6,6])"
   ]
  },
  {
   "cell_type": "code",
   "execution_count": 10,
   "metadata": {},
   "outputs": [
    {
     "data": {
      "text/plain": [
       "5-element BitArray{1}:\n",
       "  true\n",
       "  true\n",
       "  true\n",
       " false\n",
       " false"
      ]
     },
     "execution_count": 10,
     "metadata": {},
     "output_type": "execute_result"
    }
   ],
   "source": [
    " x.==y"
   ]
  },
  {
   "cell_type": "code",
   "execution_count": 11,
   "metadata": {},
   "outputs": [
    {
     "data": {
      "text/plain": [
       "true"
      ]
     },
     "execution_count": 11,
     "metadata": {},
     "output_type": "execute_result"
    }
   ],
   "source": [
    "z=x\n",
    "\n",
    "x==z"
   ]
  },
  {
   "cell_type": "code",
   "execution_count": 12,
   "metadata": {},
   "outputs": [
    {
     "data": {
      "image/svg+xml": [
       "<?xml version=\"1.0\" encoding=\"utf-8\"?>\n",
       "<svg xmlns=\"http://www.w3.org/2000/svg\" xmlns:xlink=\"http://www.w3.org/1999/xlink\" width=\"600\" height=\"400\" viewBox=\"0 0 2400 1600\">\n",
       "<defs>\n",
       "  <clipPath id=\"clip0100\">\n",
       "    <rect x=\"0\" y=\"0\" width=\"2000\" height=\"2000\"/>\n",
       "  </clipPath>\n",
       "</defs>\n",
       "<defs>\n",
       "  <clipPath id=\"clip0101\">\n",
       "    <rect x=\"0\" y=\"0\" width=\"2400\" height=\"1600\"/>\n",
       "  </clipPath>\n",
       "</defs>\n",
       "<polygon clip-path=\"url(#clip0101)\" points=\"\n",
       "0,1600 2400,1600 2400,0 0,0 \n",
       "  \" fill=\"#ffffff\" fill-rule=\"evenodd\" fill-opacity=\"1\"/>\n",
       "<defs>\n",
       "  <clipPath id=\"clip0102\">\n",
       "    <rect x=\"480\" y=\"0\" width=\"1681\" height=\"1600\"/>\n",
       "  </clipPath>\n",
       "</defs>\n",
       "<polygon clip-path=\"url(#clip0101)\" points=\"\n",
       "189.504,1503.47 2321.26,1503.47 2321.26,47.2441 189.504,47.2441 \n",
       "  \" fill=\"#ffffff\" fill-rule=\"evenodd\" fill-opacity=\"1\"/>\n",
       "<defs>\n",
       "  <clipPath id=\"clip0103\">\n",
       "    <rect x=\"189\" y=\"47\" width=\"2133\" height=\"1457\"/>\n",
       "  </clipPath>\n",
       "</defs>\n",
       "<polyline clip-path=\"url(#clip0103)\" style=\"stroke:#000000; stroke-width:2; stroke-opacity:0.1; fill:none\" points=\"\n",
       "  249.837,1503.47 249.837,47.2441 \n",
       "  \"/>\n",
       "<polyline clip-path=\"url(#clip0103)\" style=\"stroke:#000000; stroke-width:2; stroke-opacity:0.1; fill:none\" points=\"\n",
       "  752.609,1503.47 752.609,47.2441 \n",
       "  \"/>\n",
       "<polyline clip-path=\"url(#clip0103)\" style=\"stroke:#000000; stroke-width:2; stroke-opacity:0.1; fill:none\" points=\"\n",
       "  1255.38,1503.47 1255.38,47.2441 \n",
       "  \"/>\n",
       "<polyline clip-path=\"url(#clip0103)\" style=\"stroke:#000000; stroke-width:2; stroke-opacity:0.1; fill:none\" points=\"\n",
       "  1758.15,1503.47 1758.15,47.2441 \n",
       "  \"/>\n",
       "<polyline clip-path=\"url(#clip0103)\" style=\"stroke:#000000; stroke-width:2; stroke-opacity:0.1; fill:none\" points=\"\n",
       "  2260.93,1503.47 2260.93,47.2441 \n",
       "  \"/>\n",
       "<polyline clip-path=\"url(#clip0103)\" style=\"stroke:#000000; stroke-width:2; stroke-opacity:0.1; fill:none\" points=\"\n",
       "  189.504,1462.62 2321.26,1462.62 \n",
       "  \"/>\n",
       "<polyline clip-path=\"url(#clip0103)\" style=\"stroke:#000000; stroke-width:2; stroke-opacity:0.1; fill:none\" points=\"\n",
       "  189.504,1119.03 2321.26,1119.03 \n",
       "  \"/>\n",
       "<polyline clip-path=\"url(#clip0103)\" style=\"stroke:#000000; stroke-width:2; stroke-opacity:0.1; fill:none\" points=\"\n",
       "  189.504,775.441 2321.26,775.441 \n",
       "  \"/>\n",
       "<polyline clip-path=\"url(#clip0103)\" style=\"stroke:#000000; stroke-width:2; stroke-opacity:0.1; fill:none\" points=\"\n",
       "  189.504,431.851 2321.26,431.851 \n",
       "  \"/>\n",
       "<polyline clip-path=\"url(#clip0103)\" style=\"stroke:#000000; stroke-width:2; stroke-opacity:0.1; fill:none\" points=\"\n",
       "  189.504,88.2606 2321.26,88.2606 \n",
       "  \"/>\n",
       "<polyline clip-path=\"url(#clip0101)\" style=\"stroke:#000000; stroke-width:4; stroke-opacity:1; fill:none\" points=\"\n",
       "  189.504,1503.47 2321.26,1503.47 \n",
       "  \"/>\n",
       "<polyline clip-path=\"url(#clip0101)\" style=\"stroke:#000000; stroke-width:4; stroke-opacity:1; fill:none\" points=\"\n",
       "  189.504,1503.47 189.504,47.2441 \n",
       "  \"/>\n",
       "<polyline clip-path=\"url(#clip0101)\" style=\"stroke:#000000; stroke-width:4; stroke-opacity:1; fill:none\" points=\"\n",
       "  249.837,1503.47 249.837,1481.63 \n",
       "  \"/>\n",
       "<polyline clip-path=\"url(#clip0101)\" style=\"stroke:#000000; stroke-width:4; stroke-opacity:1; fill:none\" points=\"\n",
       "  752.609,1503.47 752.609,1481.63 \n",
       "  \"/>\n",
       "<polyline clip-path=\"url(#clip0101)\" style=\"stroke:#000000; stroke-width:4; stroke-opacity:1; fill:none\" points=\"\n",
       "  1255.38,1503.47 1255.38,1481.63 \n",
       "  \"/>\n",
       "<polyline clip-path=\"url(#clip0101)\" style=\"stroke:#000000; stroke-width:4; stroke-opacity:1; fill:none\" points=\"\n",
       "  1758.15,1503.47 1758.15,1481.63 \n",
       "  \"/>\n",
       "<polyline clip-path=\"url(#clip0101)\" style=\"stroke:#000000; stroke-width:4; stroke-opacity:1; fill:none\" points=\"\n",
       "  2260.93,1503.47 2260.93,1481.63 \n",
       "  \"/>\n",
       "<polyline clip-path=\"url(#clip0101)\" style=\"stroke:#000000; stroke-width:4; stroke-opacity:1; fill:none\" points=\"\n",
       "  189.504,1462.62 221.48,1462.62 \n",
       "  \"/>\n",
       "<polyline clip-path=\"url(#clip0101)\" style=\"stroke:#000000; stroke-width:4; stroke-opacity:1; fill:none\" points=\"\n",
       "  189.504,1119.03 221.48,1119.03 \n",
       "  \"/>\n",
       "<polyline clip-path=\"url(#clip0101)\" style=\"stroke:#000000; stroke-width:4; stroke-opacity:1; fill:none\" points=\"\n",
       "  189.504,775.441 221.48,775.441 \n",
       "  \"/>\n",
       "<polyline clip-path=\"url(#clip0101)\" style=\"stroke:#000000; stroke-width:4; stroke-opacity:1; fill:none\" points=\"\n",
       "  189.504,431.851 221.48,431.851 \n",
       "  \"/>\n",
       "<polyline clip-path=\"url(#clip0101)\" style=\"stroke:#000000; stroke-width:4; stroke-opacity:1; fill:none\" points=\"\n",
       "  189.504,88.2606 221.48,88.2606 \n",
       "  \"/>\n",
       "<g clip-path=\"url(#clip0101)\">\n",
       "<text style=\"fill:#000000; fill-opacity:1; font-family:Arial,Helvetica Neue,Helvetica,sans-serif; font-size:48px; text-anchor:middle;\" transform=\"rotate(0, 249.837, 1557.47)\" x=\"249.837\" y=\"1557.47\">0.00</text>\n",
       "</g>\n",
       "<g clip-path=\"url(#clip0101)\">\n",
       "<text style=\"fill:#000000; fill-opacity:1; font-family:Arial,Helvetica Neue,Helvetica,sans-serif; font-size:48px; text-anchor:middle;\" transform=\"rotate(0, 752.609, 1557.47)\" x=\"752.609\" y=\"1557.47\">0.25</text>\n",
       "</g>\n",
       "<g clip-path=\"url(#clip0101)\">\n",
       "<text style=\"fill:#000000; fill-opacity:1; font-family:Arial,Helvetica Neue,Helvetica,sans-serif; font-size:48px; text-anchor:middle;\" transform=\"rotate(0, 1255.38, 1557.47)\" x=\"1255.38\" y=\"1557.47\">0.50</text>\n",
       "</g>\n",
       "<g clip-path=\"url(#clip0101)\">\n",
       "<text style=\"fill:#000000; fill-opacity:1; font-family:Arial,Helvetica Neue,Helvetica,sans-serif; font-size:48px; text-anchor:middle;\" transform=\"rotate(0, 1758.15, 1557.47)\" x=\"1758.15\" y=\"1557.47\">0.75</text>\n",
       "</g>\n",
       "<g clip-path=\"url(#clip0101)\">\n",
       "<text style=\"fill:#000000; fill-opacity:1; font-family:Arial,Helvetica Neue,Helvetica,sans-serif; font-size:48px; text-anchor:middle;\" transform=\"rotate(0, 2260.93, 1557.47)\" x=\"2260.93\" y=\"1557.47\">1.00</text>\n",
       "</g>\n",
       "<g clip-path=\"url(#clip0101)\">\n",
       "<text style=\"fill:#000000; fill-opacity:1; font-family:Arial,Helvetica Neue,Helvetica,sans-serif; font-size:48px; text-anchor:end;\" transform=\"rotate(0, 165.504, 1480.12)\" x=\"165.504\" y=\"1480.12\">-1.0</text>\n",
       "</g>\n",
       "<g clip-path=\"url(#clip0101)\">\n",
       "<text style=\"fill:#000000; fill-opacity:1; font-family:Arial,Helvetica Neue,Helvetica,sans-serif; font-size:48px; text-anchor:end;\" transform=\"rotate(0, 165.504, 1136.53)\" x=\"165.504\" y=\"1136.53\">-0.5</text>\n",
       "</g>\n",
       "<g clip-path=\"url(#clip0101)\">\n",
       "<text style=\"fill:#000000; fill-opacity:1; font-family:Arial,Helvetica Neue,Helvetica,sans-serif; font-size:48px; text-anchor:end;\" transform=\"rotate(0, 165.504, 792.941)\" x=\"165.504\" y=\"792.941\">0.0</text>\n",
       "</g>\n",
       "<g clip-path=\"url(#clip0101)\">\n",
       "<text style=\"fill:#000000; fill-opacity:1; font-family:Arial,Helvetica Neue,Helvetica,sans-serif; font-size:48px; text-anchor:end;\" transform=\"rotate(0, 165.504, 449.351)\" x=\"165.504\" y=\"449.351\">0.5</text>\n",
       "</g>\n",
       "<g clip-path=\"url(#clip0101)\">\n",
       "<text style=\"fill:#000000; fill-opacity:1; font-family:Arial,Helvetica Neue,Helvetica,sans-serif; font-size:48px; text-anchor:end;\" transform=\"rotate(0, 165.504, 105.761)\" x=\"165.504\" y=\"105.761\">1.0</text>\n",
       "</g>\n",
       "<polyline clip-path=\"url(#clip0103)\" style=\"stroke:#009af9; stroke-width:4; stroke-opacity:1; fill:none\" points=\"\n",
       "  249.837,775.441 269.948,713.678 290.059,652.415 310.17,592.148 330.28,533.365 350.391,476.541 370.502,422.137 390.613,370.592 410.724,322.325 430.835,277.725 \n",
       "  450.946,237.154 471.057,200.94 491.168,169.377 511.279,142.719 531.389,121.183 551.5,104.943 571.611,94.1302 591.722,88.8323 611.833,89.0922 631.944,94.9078 \n",
       "  652.055,106.232 672.166,122.973 692.277,144.996 712.388,172.121 732.499,204.131 752.609,240.764 772.72,281.726 792.831,326.684 812.942,375.275 833.053,427.104 \n",
       "  853.164,481.754 873.275,538.78 893.386,597.723 913.497,658.104 933.608,719.434 953.718,781.218 973.829,842.955 993.94,904.146 1014.05,964.295 1034.16,1022.92 \n",
       "  1054.27,1079.53 1074.38,1133.69 1094.49,1184.94 1114.61,1232.88 1134.72,1277.12 1154.83,1317.3 1174.94,1353.09 1195.05,1384.21 1215.16,1410.39 1235.27,1431.44 \n",
       "  1255.38,1447.18 1275.49,1457.48 1295.6,1462.26 1315.71,1461.48 1335.83,1455.15 1355.94,1443.31 1376.05,1426.07 1396.16,1403.57 1416.27,1375.97 1436.38,1343.52 \n",
       "  1456.49,1306.47 1476.6,1265.12 1496.71,1219.81 1516.82,1170.9 1536.93,1118.78 1557.05,1063.89 1577.16,1006.67 1597.27,947.572 1617.38,887.082 1637.49,825.687 \n",
       "  1657.6,763.887 1677.71,702.179 1697.82,641.065 1717.93,581.039 1738.04,522.586 1758.15,466.179 1778.27,412.277 1798.38,361.313 1818.49,313.702 1838.6,269.829 \n",
       "  1858.71,230.048 1878.82,194.682 1898.93,164.017 1919.04,138.301 1939.15,117.742 1959.26,102.507 1979.37,92.7196 1999.49,88.4582 2019.6,89.7575 2039.71,96.6072 \n",
       "  2059.82,108.952 2079.93,126.691 2100.04,149.682 2120.15,177.738 2140.26,210.632 2160.37,248.098 2180.48,289.832 2200.59,335.498 2220.71,384.724 2240.82,437.113 \n",
       "  2260.93,492.241 \n",
       "  \"/>\n",
       "<polygon clip-path=\"url(#clip0101)\" points=\"\n",
       "1958.43,251.724 2249.26,251.724 2249.26,130.764 1958.43,130.764 \n",
       "  \" fill=\"#ffffff\" fill-rule=\"evenodd\" fill-opacity=\"1\"/>\n",
       "<polyline clip-path=\"url(#clip0101)\" style=\"stroke:#000000; stroke-width:4; stroke-opacity:1; fill:none\" points=\"\n",
       "  1958.43,251.724 2249.26,251.724 2249.26,130.764 1958.43,130.764 1958.43,251.724 \n",
       "  \"/>\n",
       "<polyline clip-path=\"url(#clip0101)\" style=\"stroke:#009af9; stroke-width:4; stroke-opacity:1; fill:none\" points=\"\n",
       "  1982.43,191.244 2126.43,191.244 \n",
       "  \"/>\n",
       "<g clip-path=\"url(#clip0101)\">\n",
       "<text style=\"fill:#000000; fill-opacity:1; font-family:Arial,Helvetica Neue,Helvetica,sans-serif; font-size:48px; text-anchor:start;\" transform=\"rotate(0, 2150.43, 208.744)\" x=\"2150.43\" y=\"208.744\">y1</text>\n",
       "</g>\n",
       "</svg>\n"
      ]
     },
     "execution_count": 12,
     "metadata": {},
     "output_type": "execute_result"
    }
   ],
   "source": [
    "using Plots #PyPlot\n",
    "\n",
    "x=range(0,stop=1, length=101)\n",
    "\n",
    "plot(x, sin.(9x))"
   ]
  },
  {
   "cell_type": "code",
   "execution_count": 46,
   "metadata": {},
   "outputs": [
    {
     "data": {
      "text/plain": [
       "4×4 Array{Float64,2}:\n",
       " 0.87078   0.0914677  0.941075  0.199458\n",
       " 0.262304  0.0962832  0.988933  0.97388 \n",
       " 0.146608  0.414917   0.296693  0.794666\n",
       " 0.495569  0.0686591  0.113389  0.90069 "
      ]
     },
     "execution_count": 46,
     "metadata": {},
     "output_type": "execute_result"
    }
   ],
   "source": [
    "A=rand(4,4)"
   ]
  },
  {
   "cell_type": "code",
   "execution_count": 48,
   "metadata": {},
   "outputs": [
    {
     "data": {
      "text/plain": [
       "8×2 Array{Float64,2}:\n",
       " 0.87078    0.941075\n",
       " 0.262304   0.988933\n",
       " 0.146608   0.296693\n",
       " 0.495569   0.113389\n",
       " 0.0914677  0.199458\n",
       " 0.0962832  0.97388 \n",
       " 0.414917   0.794666\n",
       " 0.0686591  0.90069 "
      ]
     },
     "execution_count": 48,
     "metadata": {},
     "output_type": "execute_result"
    }
   ],
   "source": [
    "B=reshape(A, (:,2))"
   ]
  },
  {
   "cell_type": "code",
   "execution_count": 51,
   "metadata": {},
   "outputs": [
    {
     "data": {
      "text/plain": [
       "8×2 Array{Float64,2}:\n",
       " 0.87078      0.941075\n",
       " 0.262304     0.988933\n",
       " 0.146608     0.296693\n",
       " 0.495569   100.0     \n",
       " 0.0914677    0.199458\n",
       " 0.0962832    0.97388 \n",
       " 0.414917     0.794666\n",
       " 0.0686591    0.90069 "
      ]
     },
     "metadata": {},
     "output_type": "display_data"
    },
    {
     "data": {
      "text/plain": [
       "4×4 Array{Float64,2}:\n",
       " 0.87078   0.0914677    0.941075  0.199458\n",
       " 0.262304  0.0962832    0.988933  0.97388 \n",
       " 0.146608  0.414917     0.296693  0.794666\n",
       " 0.495569  0.0686591  100.0       0.90069 "
      ]
     },
     "metadata": {},
     "output_type": "display_data"
    }
   ],
   "source": [
    "B[4,2]=100.0\n",
    "\n",
    "display(B)\n",
    "\n",
    "display(A)"
   ]
  },
  {
   "cell_type": "code",
   "execution_count": 59,
   "metadata": {},
   "outputs": [
    {
     "name": "stdout",
     "output_type": "stream",
     "text": [
      "item 1 = 0.8707800224519506\n",
      "item 2 = 0.2623039938696343\n",
      "item 3 = 0.1466083282049937\n",
      "item 4 = 0.49556924512990075\n",
      "item 5 = 0.09146772520134983\n",
      "item 6 = 0.09628317912747142\n",
      "item 7 = 0.4149171926588089\n",
      "item 8 = 0.06865913704575677\n",
      "item 9 = 0.9410746513694173\n",
      "item 10 = 0.9889334084143546\n",
      "item 11 = 0.2966932512428053\n",
      "item 12 = 100.0\n",
      "item 13 = 0.1994584843561782\n",
      "item 14 = 0.9738797478386803\n",
      "item 15 = 0.7946655371156062\n",
      "item 16 = 0.9006900270474527\n"
     ]
    }
   ],
   "source": [
    "for (i, elem) in enumerate(B)\n",
    "    println(\"item $i = $elem\")\n",
    "end"
   ]
  }
 ],
 "metadata": {
  "@webio": {
   "lastCommId": null,
   "lastKernelId": null
  },
  "kernelspec": {
   "display_name": "Julia 1.2.0",
   "language": "julia",
   "name": "julia-1.2"
  },
  "language_info": {
   "file_extension": ".jl",
   "mimetype": "application/julia",
   "name": "julia",
   "version": "1.2.0"
  }
 },
 "nbformat": 4,
 "nbformat_minor": 2
}
