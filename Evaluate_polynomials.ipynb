{
 "cells": [
  {
   "cell_type": "markdown",
   "metadata": {},
   "source": [
    "# What shall we learn in this course?\n",
    "\n",
    "\n",
    "We will learn some algorithms and analysis that address the following questions: \n",
    "\n",
    "\n",
    "How to solve equations using computers?\n",
    "\n",
    "solve --> approximately solve\n",
    "\n",
    "* How accurate?\n",
    "\n",
    "* How expensive?\n",
    "\n",
    "    How fast?\n",
    "\n",
    "    How much resource?\n",
    "    \n",
    "* How robust is the algorithm used to compute approximate solutions?\n",
    "    \n",
    "    Stability of the comptued solutions against different sorts of perturbations.\n",
    "\n",
    "Make decision on which algorithm to use.\n",
    "\n",
    "Decide if we trust the computed results.\n",
    "\n",
    "At the beginning of the semester, we will start with some examples to illustrate some essential concepts that we shall learn."
   ]
  },
  {
   "cell_type": "markdown",
   "metadata": {},
   "source": [
    "# Lecture 1: Operation counts\n",
    "\n",
    "In numerical analysis and scientific computing, we need to know how \"expensive\" it is to run certain algorithm.\n",
    "\n",
    "* \"Expensiveness\" (cost) may bedefined in many different ways.\n",
    "* Here we show an example of the number of \"floating point operations\" relative to the size of data, using in evaluating a polynomial.\n",
    "\n",
    "\n",
    "## The big O notation\n",
    "\n",
    "This is a notation for asymptotics. It tells how fast a quantity goes to $\\infty$ or $0$ compared/relative to a parameter's going to $infty$ or $0$.\n",
    "\n",
    "Typically, you will see two sitations:\n",
    "\n",
    "* for the computation cost of an algorithm relative to the given (large) number of variables ($N$)\n",
    "\n",
    "$$O(N^p),~~~N\\rightarrow\\infty$$\n",
    "\n",
    "or\n",
    "\n",
    "* for the accuracy of an algorithm relative to a small parameter $\\epsilon$, which could be $1/N$, where $N$ is the number of variables involved in the algorithm:\n",
    "\n",
    "$$O(\\epsilon^q),~~~\\epsilon\\rightarrow 0$$\n",
    "\n"
   ]
  },
  {
   "cell_type": "markdown",
   "metadata": {},
   "source": [
    "## Evaluating polynomials\n",
    "\n",
    "$$p(x)= a_3 x^3 + a_2 x^2 + a_1 x +a_0$$\n",
    "\n",
    "What is the most efficient way to evalute polynomials?\n",
    "Obviosuly, we shall not evaluate $x^3$, $x^2$, $x$ separately.\n",
    "\n",
    "We introduce Horner's method that uses *nested multiplications*.\n"
   ]
  },
  {
   "cell_type": "code",
   "execution_count": 1,
   "metadata": {
    "jupyter": {
     "outputs_hidden": false
    }
   },
   "outputs": [
    {
     "data": {
      "text/plain": [
       "p (generic function with 1 method)"
      ]
     },
     "execution_count": 1,
     "metadata": {},
     "output_type": "execute_result"
    }
   ],
   "source": [
    "a = [1.0 2.0 3.0 1.0134]\n",
    "\n",
    "\n",
    "#the most straightforward way\n",
    "\n",
    "p(x)= a[4]*x.^3 .+ a[3]*x.^2 .+ a[2]*x .+ a[1]"
   ]
  },
  {
   "cell_type": "code",
   "execution_count": 7,
   "metadata": {
    "jupyter": {
     "outputs_hidden": false
    }
   },
   "outputs": [
    {
     "data": {
      "text/plain": [
       "1×3 Array{Float64,2}:\n",
       " 9.47116  2.54713  -60.675"
      ]
     },
     "metadata": {},
     "output_type": "display_data"
    },
    {
     "data": {
      "text/plain": [
       "(9.4711552, 2.5471254655999997, -60.67500000000001)"
      ]
     },
     "execution_count": 7,
     "metadata": {},
     "output_type": "execute_result"
    }
   ],
   "source": [
    "x=1\n",
    "\n",
    "p(x)\n",
    "\n",
    "X = [ 1.2 0.44 -5.0]\n",
    "display(p(X))\n",
    "\n",
    "p(X[1]), p(X[2]), p(X[3])"
   ]
  },
  {
   "cell_type": "code",
   "execution_count": 48,
   "metadata": {
    "jupyter": {
     "outputs_hidden": false
    }
   },
   "outputs": [
    {
     "data": {
      "text/plain": [
       "p_smart (generic function with 1 method)"
      ]
     },
     "execution_count": 48,
     "metadata": {},
     "output_type": "execute_result"
    }
   ],
   "source": [
    "p_smart(x) = ((a[4].*x.+a[3]).*x.+a[2]).*x.+a[1]"
   ]
  },
  {
   "cell_type": "code",
   "execution_count": 51,
   "metadata": {
    "jupyter": {
     "outputs_hidden": false
    }
   },
   "outputs": [
    {
     "name": "stdout",
     "output_type": "stream",
     "text": [
      "  0.000370 seconds (22 allocations: 781.828 KiB)\n"
     ]
    },
    {
     "data": {
      "text/plain": [
       "100000-element Array{Float64,1}:\n",
       " 2.900676407894041 \n",
       " 2.6376113085835566\n",
       " 1.623173751439899 \n",
       " 2.002224831971807 \n",
       " 2.8392150084222525\n",
       " 1.193834103018485 \n",
       " 1.2182205568993223\n",
       " 6.31760781807919  \n",
       " 1.8350299142065243\n",
       " 6.655691238112637 \n",
       " 2.3729633593039368\n",
       " 3.923919962957055 \n",
       " 2.936000673525715 \n",
       " ⋮                 \n",
       " 1.2659881546982608\n",
       " 5.391745086770009 \n",
       " 1.5784565302652234\n",
       " 6.084485705511977 \n",
       " 1.825791593313085 \n",
       " 2.1378120111586987\n",
       " 1.145936531817891 \n",
       " 2.677726580522279 \n",
       " 2.3593877455516488\n",
       " 2.8955555014146315\n",
       " 5.64643546734121  \n",
       " 2.3841316416999483"
      ]
     },
     "execution_count": 51,
     "metadata": {},
     "output_type": "execute_result"
    }
   ],
   "source": [
    "@time p_smart(x)"
   ]
  },
  {
   "cell_type": "markdown",
   "metadata": {},
   "source": [
    "Homeowork: write a general function that evaluate polynomials efficiently for each of the elements in the input vector x\n",
    "Polynomials of the follow form:\n",
    "$$ P(x)= a_{n+1}x^n+a_{n}x^{n-1}+\\cdots+a_1x+a_1$$"
   ]
  },
  {
   "cell_type": "code",
   "execution_count": 41,
   "metadata": {
    "jupyter": {
     "outputs_hidden": false
    }
   },
   "outputs": [
    {
     "data": {
      "text/plain": [
       "P (generic function with 1 method)"
      ]
     },
     "execution_count": 41,
     "metadata": {},
     "output_type": "execute_result"
    }
   ],
   "source": [
    "function P( a::Array{Float64}, x::Array{Float64})\n",
    "    \n",
    "    val=copy(x)\n",
    "    val.=a[end]\n",
    "    \n",
    "    for k in length(a)-1:-1:1\n",
    "        val .= (val.*x.+a[k])\n",
    "    end\n",
    "    \n",
    "    return val\n",
    "end"
   ]
  },
  {
   "cell_type": "code",
   "execution_count": 54,
   "metadata": {
    "jupyter": {
     "outputs_hidden": false
    }
   },
   "outputs": [
    {
     "name": "stdout",
     "output_type": "stream",
     "text": [
      "  0.000644 seconds (6 allocations: 781.484 KiB)\n"
     ]
    },
    {
     "data": {
      "text/plain": [
       "100000-element Array{Float64,1}:\n",
       " 2.900676407894041 \n",
       " 2.6376113085835566\n",
       " 1.623173751439899 \n",
       " 2.002224831971807 \n",
       " 2.8392150084222525\n",
       " 1.193834103018485 \n",
       " 1.2182205568993223\n",
       " 6.31760781807919  \n",
       " 1.8350299142065243\n",
       " 6.655691238112637 \n",
       " 2.3729633593039368\n",
       " 3.923919962957055 \n",
       " 2.936000673525715 \n",
       " ⋮                 \n",
       " 1.2659881546982608\n",
       " 5.391745086770009 \n",
       " 1.5784565302652234\n",
       " 6.084485705511977 \n",
       " 1.825791593313085 \n",
       " 2.1378120111586987\n",
       " 1.145936531817891 \n",
       " 2.677726580522279 \n",
       " 2.3593877455516488\n",
       " 2.8955555014146315\n",
       " 5.64643546734121  \n",
       " 2.3841316416999483"
      ]
     },
     "execution_count": 54,
     "metadata": {},
     "output_type": "execute_result"
    }
   ],
   "source": [
    "@time P(a,x)"
   ]
  },
  {
   "cell_type": "markdown",
   "metadata": {},
   "source": [
    "# Lecture 2: Floating point numbers and loss of significant digits"
   ]
  },
  {
   "cell_type": "markdown",
   "metadata": {},
   "source": [
    "## Another example: solving a quadratic equation\n",
    "\n",
    "$$ ax^2+bx+c=0 $$\n",
    "\n",
    "Let's implement the formula:\n",
    "\n",
    "$$x=\\frac{-b\\pm\\sqrt{b^2-4ac}}{2a}$$\n",
    "\n",
    "The problem with this formula is that when $b^2$ is very large compared to $4ac$, we may lose a lot of information in computing $b^2-4ac$ due to *round off errors*.\n"
   ]
  },
  {
   "cell_type": "code",
   "execution_count": 1,
   "metadata": {},
   "outputs": [
    {
     "data": {
      "text/plain": [
       "roots (generic function with 1 method)"
      ]
     },
     "execution_count": 1,
     "metadata": {},
     "output_type": "execute_result"
    }
   ],
   "source": [
    "roots(a,b,c) =  ((-b+sqrt(b^2-4a*c))/(2a), (-b-sqrt(b^2-4a*c))/(2a))"
   ]
  },
  {
   "cell_type": "code",
   "execution_count": 12,
   "metadata": {},
   "outputs": [
    {
     "data": {
      "text/plain": [
       "0.0"
      ]
     },
     "metadata": {},
     "output_type": "display_data"
    },
    {
     "data": {
      "text/plain": [
       "2.82429536481e11"
      ]
     },
     "metadata": {},
     "output_type": "display_data"
    },
    {
     "data": {
      "text/plain": [
       "2.82429536481e11"
      ]
     },
     "metadata": {},
     "output_type": "display_data"
    }
   ],
   "source": [
    "a, b, c = 1.0, 9.0^12, -3.0\n",
    "\n",
    "Q(x)=a*x.^2 .+ b*x .+ c\n",
    "\n",
    "r1, r2 =roots(a,b,c)\n",
    "\n",
    "#println(\"The residual: \",Q([r1,r2]))\n",
    "\n",
    "display(r1)\n",
    "\n",
    "display(sqrt(b^2-4a*c))\n",
    "display(b)"
   ]
  },
  {
   "cell_type": "code",
   "execution_count": 16,
   "metadata": {},
   "outputs": [
    {
     "data": {
      "text/plain": [
       "7.976644307687251e22"
      ]
     },
     "metadata": {},
     "output_type": "display_data"
    },
    {
     "data": {
      "text/plain": [
       "-12.0"
      ]
     },
     "metadata": {},
     "output_type": "display_data"
    },
    {
     "data": {
      "text/plain": [
       "7.976644307687251e22"
      ]
     },
     "metadata": {},
     "output_type": "display_data"
    }
   ],
   "source": [
    "display(b^2)\n",
    "display(4a*c)\n",
    "\n",
    "display(b^2-4a*c)"
   ]
  },
  {
   "cell_type": "code",
   "execution_count": 13,
   "metadata": {},
   "outputs": [
    {
     "data": {
      "text/plain": [
       "(1.0, 2.82429536481e+11, -3.0)"
      ]
     },
     "execution_count": 13,
     "metadata": {},
     "output_type": "execute_result"
    }
   ],
   "source": [
    "A,B,C = big.( (a,b,c) )"
   ]
  },
  {
   "cell_type": "code",
   "execution_count": 14,
   "metadata": {},
   "outputs": [
    {
     "data": {
      "text/plain": [
       "1.062211848441644930860055321254373665493827609316243536458177956524440072302496e-11"
      ]
     },
     "execution_count": 14,
     "metadata": {},
     "output_type": "execute_result"
    }
   ],
   "source": [
    "R1, R2=roots(A,B,C)\n",
    "\n",
    "Q([R1, R2])\n",
    "\n",
    "R1"
   ]
  },
  {
   "cell_type": "code",
   "execution_count": 15,
   "metadata": {},
   "outputs": [
    {
     "data": {
      "text/plain": [
       "1.062211848441645e-11"
      ]
     },
     "execution_count": 15,
     "metadata": {},
     "output_type": "execute_result"
    }
   ],
   "source": [
    "improved_root1(a,b,c) =  (-2c)/(b+sqrt(b^2-4a*c))\n",
    "\n",
    "improved_root1(a,b,c)"
   ]
  },
  {
   "cell_type": "markdown",
   "metadata": {},
   "source": [
    "## An example about stability of an algorithm\n",
    "\n",
    "We solve $$ x^\\prime = \\lambda x,~~~x(0)=x_0.$$\n",
    "\n",
    "The solution is $ x(t)=x_0 e^{-2t}$"
   ]
  },
  {
   "cell_type": "code",
   "execution_count": 105,
   "metadata": {},
   "outputs": [
    {
     "ename": "ErrorException",
     "evalue": "cannot define function x_exact; it already has a value",
     "output_type": "error",
     "traceback": [
      "cannot define function x_exact; it already has a value",
      "",
      "Stacktrace:",
      " [1] top-level scope at none:0",
      " [2] top-level scope at In[105]:1"
     ]
    }
   ],
   "source": [
    "x_exact(x0,T; λ=-1.0) = x0*exp.(λ*T)"
   ]
  },
  {
   "cell_type": "code",
   "execution_count": 92,
   "metadata": {},
   "outputs": [
    {
     "data": {
      "text/plain": [
       "fe_steps (generic function with 1 method)"
      ]
     },
     "execution_count": 92,
     "metadata": {},
     "output_type": "execute_result"
    }
   ],
   "source": [
    "function fe_steps(x0, Δt, nsteps; λ=-1.0)\n",
    "   \n",
    "    x=zeros(nsteps+1)\n",
    "    t=zeros(nsteps+1)\n",
    "    \n",
    "    x[1]=x0\n",
    "    t[1]=0.0\n",
    "    \n",
    "    for k=1:nsteps \n",
    "        x[k+1]=x[k]+Δt*(λ*x[k])\n",
    "        t[k+1]=t[k]+Δt\n",
    "    end\n",
    "    \n",
    "    return (x, t)\n",
    "end"
   ]
  },
  {
   "cell_type": "code",
   "execution_count": 93,
   "metadata": {},
   "outputs": [
    {
     "data": {
      "text/plain": [
       "be_steps (generic function with 1 method)"
      ]
     },
     "execution_count": 93,
     "metadata": {},
     "output_type": "execute_result"
    }
   ],
   "source": [
    "function be_steps(x0, Δt, nsteps; λ=-1.0)\n",
    "   \n",
    "    x=zeros(nsteps+1)\n",
    "    t=zeros(nsteps+1)\n",
    "    \n",
    "    x[1]=x0\n",
    "    t[1]=0.0\n",
    "    \n",
    "    for k=1:nsteps \n",
    "        x[k+1]=x[k]/(1-Δt*λ)\n",
    "        t[k+1]=t[k]+Δt\n",
    "    end\n",
    "    \n",
    "    return (x, t)\n",
    "end"
   ]
  },
  {
   "cell_type": "code",
   "execution_count": 101,
   "metadata": {},
   "outputs": [
    {
     "data": {
      "text/plain": [
       "([10.1, 9.898, 9.70004, 9.5060392, 9.315918416, 9.12960004768, 8.9470080467264, 8.768067885791872, 8.592706528076034, 8.420852397514514, 8.252435349564223], [0.0, 0.02, 0.04, 0.06, 0.08, 0.1, 0.12000000000000001, 0.14, 0.16, 0.18, 0.19999999999999998])"
      ]
     },
     "execution_count": 101,
     "metadata": {},
     "output_type": "execute_result"
    }
   ],
   "source": [
    "X,T=fe_steps(10.1, 0.02, 10)"
   ]
  },
  {
   "cell_type": "code",
   "execution_count": 103,
   "metadata": {},
   "outputs": [
    {
     "data": {
      "image/png": "[encoded data removed]",
      "text/plain": [
       "Figure(PyObject <Figure size 640x480 with 1 Axes>)"
      ]
     },
     "metadata": {},
     "output_type": "display_data"
    },
    {
     "data": {
      "text/plain": [
       "-0.0020066003982286418"
      ]
     },
     "execution_count": 103,
     "metadata": {},
     "output_type": "execute_result"
    }
   ],
   "source": [
    "using PyPlot\n",
    "\n",
    "plot(T,X)\n",
    "\n",
    "X[2]-x_exact[2]"
   ]
  },
  {
   "cell_type": "code",
   "execution_count": 104,
   "metadata": {},
   "outputs": [
    {
     "data": {
      "image/png": "[encoded data removed]",
      "text/plain": [
       "Figure(PyObject <Figure size 640x480 with 1 Axes>)"
      ]
     },
     "metadata": {},
     "output_type": "display_data"
    },
    {
     "data": {
      "text/plain": [
       "0.0019541839154975094"
      ]
     },
     "execution_count": 104,
     "metadata": {},
     "output_type": "execute_result"
    }
   ],
   "source": [
    "X,T=be_steps(10.1, 0.02, 100)\n",
    "\n",
    "plot(T,X)\n",
    "\n",
    "X[2]-x_exact[2]"
   ]
  },
  {
   "cell_type": "code",
   "execution_count": 50,
   "metadata": {},
   "outputs": [
    {
     "data": {
      "text/plain": [
       "-0.1899999999999995"
      ]
     },
     "execution_count": 50,
     "metadata": {},
     "output_type": "execute_result"
    }
   ],
   "source": [
    "8.08-8.27"
   ]
  },
  {
   "cell_type": "code",
   "execution_count": 51,
   "metadata": {},
   "outputs": [
    {
     "data": {
      "text/plain": [
       "0.14000000000000057"
      ]
     },
     "execution_count": 51,
     "metadata": {},
     "output_type": "execute_result"
    }
   ],
   "source": [
    "8.41-8.27"
   ]
  },
  {
   "cell_type": "code",
   "execution_count": null,
   "metadata": {},
   "outputs": [],
   "source": []
  }
 ],
 "metadata": {
  "anaconda-cloud": {},
  "kernelspec": {
   "display_name": "Julia 1.2.0",
   "language": "julia",
   "name": "julia-1.2"
  },
  "language_info": {
   "file_extension": ".jl",
   "mimetype": "application/julia",
   "name": "julia",
   "version": "1.2.0"
  }
 },
 "nbformat": 4,
 "nbformat_minor": 4
}
